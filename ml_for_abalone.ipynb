{
 "cells": [
  {
   "cell_type": "code",
   "execution_count": 1,
   "id": "84239549",
   "metadata": {},
   "outputs": [],
   "source": [
    "import numpy as np\n",
    "import pandas as pd"
   ]
  },
  {
   "cell_type": "code",
   "execution_count": 2,
   "id": "eaacf7dc",
   "metadata": {},
   "outputs": [],
   "source": [
    "# Загружаем и обрабатываем данные заново, т.е. строим универсальный pipeline с обработчиками\n",
    "# 1. Загрузка данных\n",
    "df = pd.read_csv('abalone.csv')\n",
    "\n",
    "df['Age'] = df['Rings'] + 1.5 # Перейдем на возраст вместо колец\n",
    "\n",
    "# 2. Определяем признаки, все вместе\n",
    "X_full = df.drop(columns=['Age', 'Rings'])\n",
    "y = df['Age']"
   ]
  },
  {
   "cell_type": "code",
   "execution_count": 3,
   "id": "8023275f",
   "metadata": {},
   "outputs": [
    {
     "name": "stdout",
     "output_type": "stream",
     "text": [
      "Числовые признаки: ['Length', 'Diameter', 'Height', 'Whole weight', 'Shucked weight', 'Viscera weight', 'Shell weight']\n",
      "Категориальные признаки: ['Sex']\n"
     ]
    }
   ],
   "source": [
    "numeric_features = X_full.select_dtypes(include=np.number).columns.to_list()\n",
    "categorical_features = X_full.select_dtypes(exclude=np.number).columns.to_list()\n",
    "target_column = 'Age'\n",
    "\n",
    "# 3. Только числовые признаки\n",
    "X_num = df[numeric_features]\n",
    "\n",
    "print(\"Числовые признаки:\", numeric_features)\n",
    "print(\"Категориальные признаки:\", categorical_features)"
   ]
  },
  {
   "cell_type": "code",
   "execution_count": 4,
   "id": "a5ff2522",
   "metadata": {},
   "outputs": [
    {
     "data": {
      "application/vnd.microsoft.datawrangler.viewer.v0+json": {
       "columns": [
        {
         "name": "index",
         "rawType": "int64",
         "type": "integer"
        },
        {
         "name": "Length",
         "rawType": "float64",
         "type": "float"
        },
        {
         "name": "Diameter",
         "rawType": "float64",
         "type": "float"
        },
        {
         "name": "Height",
         "rawType": "float64",
         "type": "float"
        },
        {
         "name": "Whole weight",
         "rawType": "float64",
         "type": "float"
        },
        {
         "name": "Shucked weight",
         "rawType": "float64",
         "type": "float"
        },
        {
         "name": "Viscera weight",
         "rawType": "float64",
         "type": "float"
        },
        {
         "name": "Shell weight",
         "rawType": "float64",
         "type": "float"
        }
       ],
       "conversionMethod": "pd.DataFrame",
       "ref": "dbdbbf16-c19e-4da5-8a7c-93e96f95ed62",
       "rows": [
        [
         "0",
         "0.455",
         "0.365",
         "0.095",
         "0.514",
         "0.2245",
         "0.101",
         "0.15"
        ],
        [
         "1",
         "0.35",
         "0.265",
         "0.09",
         "0.2255",
         "0.0995",
         "0.0485",
         "0.07"
        ],
        [
         "2",
         "0.53",
         "0.42",
         "0.135",
         "0.677",
         "0.2565",
         "0.1415",
         "0.21"
        ],
        [
         "3",
         "0.44",
         "0.365",
         "0.125",
         null,
         "0.2155",
         "0.114",
         "0.155"
        ],
        [
         "4",
         "0.33",
         "0.255",
         "0.08",
         "0.205",
         "0.0895",
         "0.0395",
         "0.055"
        ],
        [
         "5",
         "0.425",
         "0.3",
         "0.095",
         "0.3515",
         "0.141",
         "0.0775",
         "0.12"
        ],
        [
         "6",
         "0.53",
         "0.415",
         "0.15",
         "0.7775",
         "0.237",
         "0.1415",
         "0.33"
        ],
        [
         "7",
         "0.545",
         "0.425",
         "0.125",
         "0.768",
         "0.294",
         "0.1495",
         "0.26"
        ],
        [
         "8",
         "0.475",
         "0.37",
         "0.125",
         "0.5095",
         "0.2165",
         "0.1125",
         "0.165"
        ],
        [
         "9",
         "0.55",
         "0.44",
         "0.15",
         "0.8945",
         "0.3145",
         "0.151",
         "0.32"
        ],
        [
         "10",
         "0.525",
         "0.38",
         "0.14",
         "0.6065",
         "0.194",
         "0.1475",
         "0.21"
        ],
        [
         "11",
         "0.43",
         "0.35",
         "0.11",
         "0.406",
         "0.1675",
         "0.081",
         "0.135"
        ],
        [
         "12",
         "0.49",
         "0.38",
         "0.135",
         "0.5415",
         "0.2175",
         "0.095",
         "0.19"
        ],
        [
         "13",
         "0.535",
         "0.405",
         "0.145",
         "0.6845",
         "0.2725",
         "0.171",
         "0.205"
        ],
        [
         "14",
         "0.47",
         "0.355",
         "0.1",
         "0.4755",
         "0.1675",
         "0.0805",
         "0.185"
        ],
        [
         "15",
         "0.5",
         "0.4",
         "0.13",
         "0.6645",
         "0.258",
         "0.133",
         "0.24"
        ],
        [
         "16",
         "0.355",
         "0.28",
         "0.085",
         "0.2905",
         "0.095",
         "0.0395",
         "0.115"
        ],
        [
         "17",
         "0.44",
         "0.34",
         "0.1",
         "0.451",
         "0.188",
         "0.087",
         "0.13"
        ],
        [
         "18",
         "0.365",
         "0.295",
         "0.08",
         "0.2555",
         "0.097",
         "0.043",
         "0.1"
        ],
        [
         "19",
         "0.45",
         "0.32",
         "0.1",
         "0.381",
         "0.1705",
         "0.075",
         "0.115"
        ],
        [
         "20",
         "0.355",
         "0.28",
         "0.095",
         "0.2455",
         "0.0955",
         "0.062",
         "0.075"
        ],
        [
         "21",
         "0.38",
         "0.275",
         "0.1",
         "0.2255",
         "0.08",
         "0.049",
         "0.085"
        ],
        [
         "22",
         "0.565",
         "0.44",
         "0.155",
         "0.9395",
         "0.4275",
         "0.214",
         "0.27"
        ],
        [
         "23",
         "0.55",
         "0.415",
         "0.135",
         "0.7635",
         "0.318",
         "0.21",
         "0.2"
        ],
        [
         "24",
         "0.615",
         "0.48",
         "0.165",
         "1.1615",
         "0.513",
         "0.301",
         "0.305"
        ],
        [
         "25",
         "0.56",
         "0.44",
         "0.14",
         "0.9285",
         "0.3825",
         "0.188",
         "0.3"
        ],
        [
         "26",
         "0.58",
         "0.45",
         "0.185",
         "0.9955",
         "0.3945",
         "0.272",
         "0.285"
        ],
        [
         "27",
         "0.59",
         "0.445",
         "0.14",
         "0.931",
         "0.356",
         "0.234",
         "0.28"
        ],
        [
         "28",
         "0.605",
         "0.475",
         "0.18",
         "0.9365",
         "0.394",
         "0.219",
         "0.295"
        ],
        [
         "29",
         "0.575",
         "0.425",
         "0.14",
         "0.8635",
         "0.393",
         "0.227",
         "0.2"
        ],
        [
         "30",
         "0.58",
         "0.47",
         "0.165",
         "0.9975",
         "0.3935",
         "0.242",
         "0.33"
        ],
        [
         "31",
         "0.68",
         "0.56",
         "0.165",
         "1.639",
         "0.6055",
         "0.2805",
         "0.46"
        ],
        [
         "32",
         "0.665",
         "0.525",
         "0.165",
         "1.338",
         "0.5515",
         "0.3575",
         "0.35"
        ],
        [
         "33",
         "0.68",
         "0.55",
         "0.175",
         "1.798",
         "0.815",
         "0.3925",
         "0.455"
        ],
        [
         "34",
         "0.705",
         "0.55",
         "0.2",
         "1.7095",
         "0.633",
         "0.4115",
         "0.49"
        ],
        [
         "35",
         "0.465",
         "0.355",
         "0.105",
         "0.4795",
         "0.227",
         "0.124",
         "0.125"
        ],
        [
         "36",
         "0.54",
         "0.475",
         "0.155",
         "1.217",
         "0.5305",
         "0.3075",
         "0.34"
        ],
        [
         "37",
         "0.45",
         "0.355",
         "0.105",
         "0.5225",
         "0.237",
         "0.1165",
         "0.145"
        ],
        [
         "38",
         "0.575",
         "0.445",
         "0.135",
         "0.883",
         "0.381",
         "0.2035",
         "0.26"
        ],
        [
         "39",
         "0.355",
         "0.29",
         "0.09",
         "0.3275",
         "0.134",
         "0.086",
         "0.09"
        ],
        [
         "40",
         "0.45",
         "0.335",
         "0.105",
         "0.425",
         "0.1865",
         "0.091",
         "0.115"
        ],
        [
         "41",
         "0.55",
         "0.425",
         "0.135",
         "0.8515",
         "0.362",
         "0.196",
         "0.27"
        ],
        [
         "42",
         "0.24",
         "0.175",
         "0.045",
         "0.07",
         "0.0315",
         "0.0235",
         "0.02"
        ],
        [
         "43",
         "0.205",
         "0.15",
         "0.055",
         null,
         "0.0255",
         "0.015",
         "0.012"
        ],
        [
         "44",
         "0.21",
         "0.15",
         "0.05",
         "0.042",
         "0.0175",
         "0.0125",
         "0.015"
        ],
        [
         "45",
         "0.39",
         "0.295",
         "0.095",
         "0.203",
         "0.0875",
         "0.045",
         "0.075"
        ],
        [
         "46",
         "0.47",
         "0.37",
         "0.12",
         "0.5795",
         "0.293",
         "0.227",
         "0.14"
        ],
        [
         "47",
         "0.46",
         "0.375",
         "0.12",
         "0.4605",
         "0.1775",
         "0.11",
         "0.15"
        ],
        [
         "48",
         "0.325",
         "0.245",
         "0.07",
         "0.161",
         "0.0755",
         "0.0255",
         "0.045"
        ],
        [
         "49",
         "0.525",
         "0.425",
         "0.16",
         "0.8355",
         "0.3545",
         "0.2135",
         "0.245"
        ]
       ],
       "shape": {
        "columns": 7,
        "rows": 4177
       }
      },
      "text/html": [
       "<div>\n",
       "<style scoped>\n",
       "    .dataframe tbody tr th:only-of-type {\n",
       "        vertical-align: middle;\n",
       "    }\n",
       "\n",
       "    .dataframe tbody tr th {\n",
       "        vertical-align: top;\n",
       "    }\n",
       "\n",
       "    .dataframe thead th {\n",
       "        text-align: right;\n",
       "    }\n",
       "</style>\n",
       "<table border=\"1\" class=\"dataframe\">\n",
       "  <thead>\n",
       "    <tr style=\"text-align: right;\">\n",
       "      <th></th>\n",
       "      <th>Length</th>\n",
       "      <th>Diameter</th>\n",
       "      <th>Height</th>\n",
       "      <th>Whole weight</th>\n",
       "      <th>Shucked weight</th>\n",
       "      <th>Viscera weight</th>\n",
       "      <th>Shell weight</th>\n",
       "    </tr>\n",
       "  </thead>\n",
       "  <tbody>\n",
       "    <tr>\n",
       "      <th>0</th>\n",
       "      <td>0.455</td>\n",
       "      <td>0.365</td>\n",
       "      <td>0.095</td>\n",
       "      <td>0.5140</td>\n",
       "      <td>0.2245</td>\n",
       "      <td>0.1010</td>\n",
       "      <td>0.1500</td>\n",
       "    </tr>\n",
       "    <tr>\n",
       "      <th>1</th>\n",
       "      <td>0.350</td>\n",
       "      <td>0.265</td>\n",
       "      <td>0.090</td>\n",
       "      <td>0.2255</td>\n",
       "      <td>0.0995</td>\n",
       "      <td>0.0485</td>\n",
       "      <td>0.0700</td>\n",
       "    </tr>\n",
       "    <tr>\n",
       "      <th>2</th>\n",
       "      <td>0.530</td>\n",
       "      <td>0.420</td>\n",
       "      <td>0.135</td>\n",
       "      <td>0.6770</td>\n",
       "      <td>0.2565</td>\n",
       "      <td>0.1415</td>\n",
       "      <td>0.2100</td>\n",
       "    </tr>\n",
       "    <tr>\n",
       "      <th>3</th>\n",
       "      <td>0.440</td>\n",
       "      <td>0.365</td>\n",
       "      <td>0.125</td>\n",
       "      <td>NaN</td>\n",
       "      <td>0.2155</td>\n",
       "      <td>0.1140</td>\n",
       "      <td>0.1550</td>\n",
       "    </tr>\n",
       "    <tr>\n",
       "      <th>4</th>\n",
       "      <td>0.330</td>\n",
       "      <td>0.255</td>\n",
       "      <td>0.080</td>\n",
       "      <td>0.2050</td>\n",
       "      <td>0.0895</td>\n",
       "      <td>0.0395</td>\n",
       "      <td>0.0550</td>\n",
       "    </tr>\n",
       "    <tr>\n",
       "      <th>...</th>\n",
       "      <td>...</td>\n",
       "      <td>...</td>\n",
       "      <td>...</td>\n",
       "      <td>...</td>\n",
       "      <td>...</td>\n",
       "      <td>...</td>\n",
       "      <td>...</td>\n",
       "    </tr>\n",
       "    <tr>\n",
       "      <th>4172</th>\n",
       "      <td>0.565</td>\n",
       "      <td>0.450</td>\n",
       "      <td>0.165</td>\n",
       "      <td>0.8870</td>\n",
       "      <td>0.3700</td>\n",
       "      <td>0.2390</td>\n",
       "      <td>0.2490</td>\n",
       "    </tr>\n",
       "    <tr>\n",
       "      <th>4173</th>\n",
       "      <td>0.590</td>\n",
       "      <td>0.440</td>\n",
       "      <td>0.135</td>\n",
       "      <td>0.9660</td>\n",
       "      <td>0.4390</td>\n",
       "      <td>0.2145</td>\n",
       "      <td>0.2605</td>\n",
       "    </tr>\n",
       "    <tr>\n",
       "      <th>4174</th>\n",
       "      <td>0.600</td>\n",
       "      <td>0.475</td>\n",
       "      <td>0.205</td>\n",
       "      <td>1.1760</td>\n",
       "      <td>0.5255</td>\n",
       "      <td>0.2875</td>\n",
       "      <td>0.3080</td>\n",
       "    </tr>\n",
       "    <tr>\n",
       "      <th>4175</th>\n",
       "      <td>0.625</td>\n",
       "      <td>0.485</td>\n",
       "      <td>0.150</td>\n",
       "      <td>1.0945</td>\n",
       "      <td>0.5310</td>\n",
       "      <td>0.2610</td>\n",
       "      <td>0.2960</td>\n",
       "    </tr>\n",
       "    <tr>\n",
       "      <th>4176</th>\n",
       "      <td>0.710</td>\n",
       "      <td>0.555</td>\n",
       "      <td>0.195</td>\n",
       "      <td>1.9485</td>\n",
       "      <td>0.9455</td>\n",
       "      <td>0.3765</td>\n",
       "      <td>0.4950</td>\n",
       "    </tr>\n",
       "  </tbody>\n",
       "</table>\n",
       "<p>4177 rows × 7 columns</p>\n",
       "</div>"
      ],
      "text/plain": [
       "      Length  Diameter  Height  Whole weight  Shucked weight  Viscera weight  \\\n",
       "0      0.455     0.365   0.095        0.5140          0.2245          0.1010   \n",
       "1      0.350     0.265   0.090        0.2255          0.0995          0.0485   \n",
       "2      0.530     0.420   0.135        0.6770          0.2565          0.1415   \n",
       "3      0.440     0.365   0.125           NaN          0.2155          0.1140   \n",
       "4      0.330     0.255   0.080        0.2050          0.0895          0.0395   \n",
       "...      ...       ...     ...           ...             ...             ...   \n",
       "4172   0.565     0.450   0.165        0.8870          0.3700          0.2390   \n",
       "4173   0.590     0.440   0.135        0.9660          0.4390          0.2145   \n",
       "4174   0.600     0.475   0.205        1.1760          0.5255          0.2875   \n",
       "4175   0.625     0.485   0.150        1.0945          0.5310          0.2610   \n",
       "4176   0.710     0.555   0.195        1.9485          0.9455          0.3765   \n",
       "\n",
       "      Shell weight  \n",
       "0           0.1500  \n",
       "1           0.0700  \n",
       "2           0.2100  \n",
       "3           0.1550  \n",
       "4           0.0550  \n",
       "...            ...  \n",
       "4172        0.2490  \n",
       "4173        0.2605  \n",
       "4174        0.3080  \n",
       "4175        0.2960  \n",
       "4176        0.4950  \n",
       "\n",
       "[4177 rows x 7 columns]"
      ]
     },
     "execution_count": 4,
     "metadata": {},
     "output_type": "execute_result"
    }
   ],
   "source": [
    "X_num"
   ]
  },
  {
   "cell_type": "code",
   "execution_count": 5,
   "id": "b98e43e8",
   "metadata": {},
   "outputs": [
    {
     "data": {
      "text/plain": [
       "0       16.5\n",
       "1        8.5\n",
       "2       10.5\n",
       "3       11.5\n",
       "4        8.5\n",
       "        ... \n",
       "4172    12.5\n",
       "4173    11.5\n",
       "4174    10.5\n",
       "4175    11.5\n",
       "4176    13.5\n",
       "Name: Age, Length: 4177, dtype: float64"
      ]
     },
     "execution_count": 5,
     "metadata": {},
     "output_type": "execute_result"
    }
   ],
   "source": [
    "y"
   ]
  },
  {
   "cell_type": "markdown",
   "id": "d8f206e8",
   "metadata": {},
   "source": [
    "1. Построение моделей на числовых признаках (минимум - NB и kNN, максимум - любые) с параметрами по умолчанию, вычисление метрик + комментарий о качестве моделей"
   ]
  },
  {
   "cell_type": "markdown",
   "id": "9dd6a8b2",
   "metadata": {},
   "source": [
    "Модели: простая линейная регрессия + с регуляризацией (Ridge), Байесовская линейная регрессия (Naive Bayes), kNN, случайный лес и классический градиентный бустинг"
   ]
  },
  {
   "cell_type": "code",
   "execution_count": 6,
   "id": "62abf587",
   "metadata": {},
   "outputs": [],
   "source": [
    "from sklearn.linear_model import LinearRegression, Ridge, BayesianRidge\n",
    "from sklearn.ensemble import RandomForestRegressor\n",
    "from sklearn.neighbors import KNeighborsRegressor\n",
    "from xgboost import XGBRegressor\n",
    "from lightgbm import LGBMRegressor\n",
    "from catboost import CatBoostRegressor\n",
    "from sklearn.compose import ColumnTransformer\n",
    "from sklearn.pipeline import Pipeline\n",
    "from sklearn.impute import SimpleImputer\n",
    "from sklearn.preprocessing import StandardScaler, OneHotEncoder"
   ]
  },
  {
   "cell_type": "code",
   "execution_count": 7,
   "id": "95c355d1",
   "metadata": {},
   "outputs": [],
   "source": [
    "from sklearn.model_selection import train_test_split\n",
    "# 4. Разделяем выборку (только числовые)\n",
    "X_train_num, X_test_num, y_train, y_test = train_test_split(X_num, y, test_size=0.25, random_state=42)"
   ]
  },
  {
   "cell_type": "code",
   "execution_count": 8,
   "id": "995013b5",
   "metadata": {},
   "outputs": [],
   "source": [
    "# Препроцессор: заполнение медианой (т.к. в EDA обнаружили выбросы и медиана наиболее устойчива) + нормализация\n",
    "# 5. Препроцессор ТОЛЬКО для числовых признаков\n",
    "preprocessor_num = ColumnTransformer(\n",
    "    transformers=[\n",
    "        ('num', Pipeline([\n",
    "            ('imputer', SimpleImputer(strategy='median')),\n",
    "            ('scaler', StandardScaler())\n",
    "        ]), numeric_features)\n",
    "    ])\n"
   ]
  },
  {
   "cell_type": "code",
   "execution_count": 9,
   "id": "e2e399b4",
   "metadata": {},
   "outputs": [],
   "source": [
    "from sklearn.metrics import mean_absolute_error, mean_squared_error, r2_score\n",
    "# 6. Метрики\n",
    "def evaluate_model(y_true, y_pred, name):\n",
    "    mae = mean_absolute_error(y_true, y_pred)\n",
    "    rmse = np.sqrt(mean_squared_error(y_true, y_pred))\n",
    "    r2 = r2_score(y_true, y_pred)\n",
    "    print(f\"Модель: {name}\")\n",
    "    print(f\"MAE: {mae:.4f}, RMSE: {rmse:.4f}, R²: {r2:.4f}\\n\")\n",
    "    return {\"MAE\": mae, \"RMSE\": rmse, \"R²\": r2}"
   ]
  },
  {
   "cell_type": "code",
   "execution_count": 10,
   "id": "d77b7bad",
   "metadata": {},
   "outputs": [],
   "source": [
    "# 7. Модели (только числовые)\n",
    "models_num = {\n",
    "    'Linear': LinearRegression(),\n",
    "    'Ridge': Ridge(),\n",
    "    'BayesianRidge': BayesianRidge(),\n",
    "    'kNN': KNeighborsRegressor(),\n",
    "    'RandomForest': RandomForestRegressor(random_state=42),\n",
    "    'XGB': XGBRegressor(random_state=42)\n",
    "}"
   ]
  },
  {
   "cell_type": "code",
   "execution_count": 11,
   "id": "f6efdf84",
   "metadata": {},
   "outputs": [
    {
     "name": "stdout",
     "output_type": "stream",
     "text": [
      "Модель: Linear\n",
      "MAE: 1.6651, RMSE: 2.2651, R²: 0.5013\n",
      "\n",
      "Модель: Ridge\n",
      "MAE: 1.6646, RMSE: 2.2647, R²: 0.5014\n",
      "\n",
      "Модель: BayesianRidge\n",
      "MAE: 1.6642, RMSE: 2.2644, R²: 0.5016\n",
      "\n",
      "Модель: kNN\n",
      "MAE: 1.6297, RMSE: 2.3074, R²: 0.4825\n",
      "\n",
      "Модель: RandomForest\n",
      "MAE: 1.5993, RMSE: 2.2277, R²: 0.5176\n",
      "\n",
      "Модель: XGB\n",
      "MAE: 1.6608, RMSE: 2.3266, R²: 0.4738\n",
      "\n"
     ]
    }
   ],
   "source": [
    "# 8. Обучение моделей только на числовых признаках\n",
    "results_num = {}\n",
    "\n",
    "for name, model in models_num.items():\n",
    "    pipe = Pipeline(steps=[('preprocessor', preprocessor_num), ('model', model)])\n",
    "    pipe.fit(X_train_num, y_train)\n",
    "    y_pred = pipe.predict(X_test_num)\n",
    "    metrics = evaluate_model(y_test, y_pred, name)\n",
    "    results_num[name] = metrics"
   ]
  },
  {
   "cell_type": "code",
   "execution_count": 12,
   "id": "f3df3830",
   "metadata": {},
   "outputs": [
    {
     "name": "stdout",
     "output_type": "stream",
     "text": [
      "\n",
      "Результаты на числовых признаках:\n",
      "           Model       MAE      RMSE        R²\n",
      "0         Linear  1.665108  2.265094  0.501268\n",
      "1          Ridge  1.664636  2.264732  0.501427\n",
      "2  BayesianRidge  1.664176  2.264391  0.501577\n",
      "3            kNN  1.629665  2.307392  0.482467\n",
      "4   RandomForest  1.599301  2.227711  0.517594\n",
      "5            XGB  1.660771  2.326592  0.473818\n"
     ]
    }
   ],
   "source": [
    "# 9. Переводим в датафрейм\n",
    "df_results_num = pd.DataFrame(results_num).T\n",
    "df_results_num.index.name = 'Model'\n",
    "df_results_num.reset_index(inplace=True)\n",
    "\n",
    "print(\"\\nРезультаты на числовых признаках:\")\n",
    "print(df_results_num)"
   ]
  },
  {
   "cell_type": "code",
   "execution_count": 13,
   "id": "b47c29b8",
   "metadata": {},
   "outputs": [
    {
     "data": {
      "image/png": "[encoded data removed]",
      "text/plain": [
       "<Figure size 1800x600 with 3 Axes>"
      ]
     },
     "metadata": {},
     "output_type": "display_data"
    }
   ],
   "source": [
    "# 10. Визуализация метрик (только числа)\n",
    "import matplotlib.pyplot as plt\n",
    "import seaborn as sns\n",
    "\n",
    "# Цветовая палитра\n",
    "palette = sns.color_palette(\"husl\", len(df_results_num))\n",
    "\n",
    "# Настройки графика\n",
    "fig, axes = plt.subplots(1, 3, figsize=(18, 6), sharex=True)\n",
    "fig.suptitle('Сравнение моделей (только числовые признаки)', fontsize=16)\n",
    "\n",
    "# R²\n",
    "sns.barplot(ax=axes[0], x='Model', y='R²', data=df_results_num, hue='Model', palette=palette, legend=False)\n",
    "axes[0].set_title('R² Score')\n",
    "axes[0].tick_params(axis='x', rotation=45)\n",
    "\n",
    "# MAE\n",
    "sns.barplot(ax=axes[1], x='Model', y='MAE', data=df_results_num, hue='Model', palette=palette, legend=False)\n",
    "axes[1].set_title('MAE (Mean Absolute Error)')\n",
    "axes[1].tick_params(axis='x', rotation=45)\n",
    "\n",
    "# RMSE\n",
    "sns.barplot(ax=axes[2], x='Model', y='RMSE', data=df_results_num, hue='Model', palette=palette, legend=False)\n",
    "axes[2].set_title('RMSE (Root Mean Squared Error)')\n",
    "axes[2].tick_params(axis='x', rotation=45)\n",
    "\n",
    "plt.tight_layout()\n",
    "plt.show()"
   ]
  },
  {
   "cell_type": "markdown",
   "id": "a78b2bef",
   "metadata": {},
   "source": [
    "Мы видим (Чем меньше MAE и RMSE — тем лучше. Чем больше R² — тем лучше):\n",
    "\n",
    "- Random Forest показывает лучший R² и самый низкий MAE и RMSE\n",
    "- XGB отстаёт — нужен подбор гиперпараметров\n",
    "- Linear, Ridge, BayesianRidge почти одинаковы, т.к. разные версии линейной регрессии\n",
    "- kNN показывает средний результат\n",
    "\n",
    "Лучшая модель на данном этапе — Random Forest, она даёт минимальную ошибку и максимальный коэффициент детерминации."
   ]
  },
  {
   "cell_type": "code",
   "execution_count": 14,
   "id": "14fc5d93",
   "metadata": {},
   "outputs": [],
   "source": [
    "# 11. Подбор гиперпараметров (GridSearchCV) - только числа\n",
    "from sklearn.model_selection import GridSearchCV\n",
    "\n",
    "param_grids_num = {\n",
    "    'Linear': {}, # LinearRegression не имеет значимых гиперпараметров для подбора - используем как бейзлайн\n",
    "    'Ridge': {'model__alpha': [0.1, 1.0, 10.0]},\n",
    "    'BayesianRidge': {\n",
    "        'model__alpha_1': [1e-6, 1e-5],\n",
    "        'model__alpha_2': [1e-6, 1e-5]\n",
    "    },\n",
    "    'kNN': {\n",
    "        'model__n_neighbors': [3, 5, 7, 9],\n",
    "        'model__weights': ['uniform', 'distance'],\n",
    "        'model__p': [1, 2]\n",
    "    },\n",
    "    'RandomForest': {\n",
    "        'model__n_estimators': [50, 100],\n",
    "        'model__max_depth': [None, 10, 20],\n",
    "        'model__min_samples_split': [2, 5]\n",
    "    },\n",
    "    'XGB': {\n",
    "        'model__n_estimators': [50, 100],\n",
    "        'model__learning_rate': [0.01, 0.1],\n",
    "        'model__max_depth': [3, 5]\n",
    "    }\n",
    "}"
   ]
  },
  {
   "cell_type": "code",
   "execution_count": 15,
   "id": "cb06379e",
   "metadata": {},
   "outputs": [
    {
     "name": "stdout",
     "output_type": "stream",
     "text": [
      "==================================================\n",
      "Обучение модели: Linear (только числа)\n",
      "Модель: Linear (по умолчанию)\n",
      "MAE: 1.6651, RMSE: 2.2651, R²: 0.5013\n",
      "\n",
      "==================================================\n",
      "Обучение модели: Ridge (только числа)\n",
      "Модель: Ridge (подобранные параметры)\n",
      "MAE: 1.6646, RMSE: 2.2647, R²: 0.5014\n",
      "\n",
      "==================================================\n",
      "Обучение модели: BayesianRidge (только числа)\n",
      "Модель: BayesianRidge (подобранные параметры)\n",
      "MAE: 1.6642, RMSE: 2.2644, R²: 0.5016\n",
      "\n",
      "==================================================\n",
      "Обучение модели: kNN (только числа)\n",
      "Модель: kNN (подобранные параметры)\n",
      "MAE: 1.5724, RMSE: 2.2305, R²: 0.5164\n",
      "\n",
      "==================================================\n",
      "Обучение модели: RandomForest (только числа)\n",
      "Модель: RandomForest (подобранные параметры)\n",
      "MAE: 1.5825, RMSE: 2.2087, R²: 0.5258\n",
      "\n",
      "==================================================\n",
      "Обучение модели: XGB (только числа)\n",
      "Модель: XGB (подобранные параметры)\n",
      "MAE: 1.5334, RMSE: 2.1739, R²: 0.5406\n",
      "\n"
     ]
    }
   ],
   "source": [
    "best_metrics_num = {} # Словарь для хранения лучших метрик\n",
    "\n",
    "for name, model in models_num.items():\n",
    "    print(f\"{'='*50}\\nОбучение модели: {name} (только числа)\")\n",
    "    \n",
    "    pipe = Pipeline(steps=[('preprocessor', preprocessor_num), ('model', model)])\n",
    "    # Если у модели есть параметры для подбора\n",
    "    if name in param_grids_num and len(param_grids_num[name]) > 0:\n",
    "        gs = GridSearchCV(pipe, param_grids_num[name], scoring='r2', cv=5, n_jobs=-1)\n",
    "        gs.fit(X_train_num, y_train)\n",
    "        \n",
    "        best_model = gs.best_estimator_\n",
    "        y_pred = best_model.predict(X_test_num)\n",
    "        metrics = evaluate_model(y_test, y_pred, f\"{name} (подобранные параметры)\")\n",
    "        best_metrics_num[name] = metrics\n",
    "    # Просто обучаем без подбора    \n",
    "    else:\n",
    "        pipe.fit(X_train_num, y_train)\n",
    "        y_pred = pipe.predict(X_test_num)\n",
    "        metrics = evaluate_model(y_test, y_pred, f\"{name} (по умолчанию)\")\n",
    "        best_metrics_num[name] = metrics"
   ]
  },
  {
   "cell_type": "code",
   "execution_count": 16,
   "id": "5b683b59",
   "metadata": {},
   "outputs": [
    {
     "name": "stdout",
     "output_type": "stream",
     "text": [
      "\n",
      "Лучшие результаты (только числа):\n",
      "           Model       MAE      RMSE        R²\n",
      "0         Linear  1.665108  2.265094  0.501268\n",
      "1          Ridge  1.664636  2.264732  0.501427\n",
      "2  BayesianRidge  1.664176  2.264391  0.501577\n",
      "3            kNN  1.572380  2.230529  0.516373\n",
      "4   RandomForest  1.582547  2.208657  0.525811\n",
      "5            XGB  1.533410  2.173861  0.540634\n"
     ]
    }
   ],
   "source": [
    "# 12. Результаты после подбора (только числа)\n",
    "df_best_results_num = pd.DataFrame(best_metrics_num).T\n",
    "df_best_results_num.index.name = 'Model'\n",
    "df_best_results_num.reset_index(inplace=True)\n",
    "\n",
    "print(\"\\nЛучшие результаты (только числа):\")\n",
    "print(df_best_results_num)"
   ]
  },
  {
   "cell_type": "code",
   "execution_count": 17,
   "id": "68a46a2a",
   "metadata": {},
   "outputs": [
    {
     "data": {
      "image/png": "[encoded data removed]",
      "text/plain": [
       "<Figure size 1800x600 with 3 Axes>"
      ]
     },
     "metadata": {},
     "output_type": "display_data"
    }
   ],
   "source": [
    "# Визуализация метрик после подбора (только числа)\n",
    "\n",
    "palette = sns.color_palette(\"husl\", len(df_best_results_num))\n",
    "\n",
    "fig, axes = plt.subplots(1, 3, figsize=(18, 6), sharex=True)\n",
    "fig.suptitle('Сравнение моделей после подбора гиперпараметров', fontsize=16)\n",
    "\n",
    "sns.barplot(ax=axes[0], x='Model', y='R²', data=df_best_results_num, hue='Model', palette=palette, legend=False)\n",
    "axes[0].set_title('R² Score')\n",
    "axes[0].tick_params(axis='x', rotation=45)\n",
    "\n",
    "sns.barplot(ax=axes[1], x='Model', y='MAE', data=df_best_results_num, hue='Model', palette=palette, legend=False)\n",
    "axes[1].set_title('MAE (Mean Absolute Error)')\n",
    "axes[1].tick_params(axis='x', rotation=45)\n",
    "\n",
    "sns.barplot(ax=axes[2], x='Model', y='RMSE', data=df_best_results_num, hue='Model', palette=palette, legend=False)\n",
    "axes[2].set_title('RMSE (Root Mean Squared Error)')\n",
    "axes[2].tick_params(axis='x', rotation=45)\n",
    "\n",
    "plt.tight_layout()\n",
    "plt.show()"
   ]
  },
  {
   "cell_type": "markdown",
   "id": "30a391a9",
   "metadata": {},
   "source": [
    "Сводная таблица \"до\" и \"после\""
   ]
  },
  {
   "cell_type": "code",
   "execution_count": 18,
   "id": "f3b7bbb9",
   "metadata": {},
   "outputs": [],
   "source": [
    "# Отключаем экспоненциальную запись\n",
    "pd.set_option('display.float_format', '{:.6f}'.format)\n",
    "\n",
    "# Чтобы таблица не переносилась и показывалась целиком\n",
    "pd.set_option('display.width', 1000)           # ширина окна\n",
    "pd.set_option('display.max_columns', None)     # показывать все колонки\n",
    "pd.set_option('display.colheader_justify', 'left')  # заголовки слева"
   ]
  },
  {
   "cell_type": "code",
   "execution_count": 19,
   "id": "5a3f3e0a",
   "metadata": {},
   "outputs": [
    {
     "name": "stdout",
     "output_type": "stream",
     "text": [
      "\n",
      "Сводная таблица: до и после подбора гиперпараметров\n",
      "  Model           MAE_before  MAE_after  MAE_diff  RMSE_before  RMSE_after  RMSE_diff  R²_before  R²_after  R²_diff   R²_%     \n",
      "0         Linear 1.665108    1.665108    0.000000 2.265094     2.265094     0.000000  0.501268   0.501268   0.000000 100.000000\n",
      "1          Ridge 1.664636    1.664636    0.000000 2.264732     2.264732     0.000000  0.501427   0.501427   0.000000 100.000000\n",
      "2  BayesianRidge 1.664176    1.664176   -0.000000 2.264391     2.264391    -0.000000  0.501577   0.501577  -0.000000 100.000000\n",
      "3            kNN 1.629665    1.572380    0.057285 2.307392     2.230529     0.076863  0.482467   0.516373   0.033906 107.027540\n",
      "4   RandomForest 1.599301    1.582547    0.016755 2.227711     2.208657     0.019054  0.517594   0.525811   0.008217 101.587519\n",
      "5            XGB 1.660771    1.533410    0.127361 2.326592     2.173861     0.152731  0.473818   0.540634   0.066816 114.101519\n"
     ]
    }
   ],
   "source": [
    "# Добавляем префикс к колонкам\n",
    "df_before = df_results_num.copy()\n",
    "df_before.columns = ['Model', 'MAE_before', 'RMSE_before', 'R²_before']\n",
    "\n",
    "df_after = df_best_results_num.copy()\n",
    "df_after.columns = ['Model', 'MAE_after', 'RMSE_after', 'R²_after']\n",
    "\n",
    "# Объединяем\n",
    "df_comparison = pd.merge(df_before, df_after, on='Model')\n",
    "\n",
    "# Вычисляем разницу\n",
    "df_comparison['MAE_diff'] = df_comparison['MAE_before'] - df_comparison['MAE_after']\n",
    "df_comparison['RMSE_diff'] = df_comparison['RMSE_before'] - df_comparison['RMSE_after']\n",
    "df_comparison['R²_diff'] = df_comparison['R²_after'] - df_comparison['R²_before']\n",
    "df_comparison['R²_%'] = df_comparison['R²_after'] * 100 / df_comparison['R²_before']\n",
    "\n",
    "print(\"\\nСводная таблица: до и после подбора гиперпараметров\")\n",
    "print(df_comparison[['Model', 'MAE_before', 'MAE_after', 'MAE_diff',\n",
    "                     'RMSE_before', 'RMSE_after', 'RMSE_diff',\n",
    "                     'R²_before', 'R²_after', 'R²_diff', 'R²_%']])"
   ]
  },
  {
   "cell_type": "markdown",
   "id": "95bb5b99",
   "metadata": {},
   "source": [
    "После подбора гиперпараметров:\n",
    "\n",
    "- XGBoost показал наибольшее улучшение (+14% по R²), что говорит о его потенциале\n",
    "- kNN стал точнее (+7% по R²) за счёт оптимальных соседей\n",
    "- Random Forest также улучшился, но незначительно (+1.5% по R²)\n",
    "- Линейные модели остались на том же уровне"
   ]
  },
  {
   "cell_type": "markdown",
   "id": "051c79bc",
   "metadata": {},
   "source": [
    "Подключаем Optuna для поиска гиперпараметров"
   ]
  },
  {
   "cell_type": "code",
   "execution_count": 20,
   "id": "1d54fa00",
   "metadata": {},
   "outputs": [
    {
     "name": "stderr",
     "output_type": "stream",
     "text": [
      "[I 2025-05-07 17:59:44,937] A new study created in memory with name: no-name-0e9ce262-2053-4e48-9f69-5e524a0b3a67\n",
      "[I 2025-05-07 17:59:45,027] Trial 0 finished with value: 1.6344763791054953 and parameters: {'n_estimators': 104, 'max_depth': 5, 'learning_rate': 0.26058260102588654, 'subsample': 0.796460474170002, 'colsample_bytree': 0.8416653211272336}. Best is trial 0 with value: 1.6344763791054953.\n",
      "[I 2025-05-07 17:59:45,240] Trial 1 finished with value: 1.6377845463432337 and parameters: {'n_estimators': 51, 'max_depth': 9, 'learning_rate': 0.181476350935479, 'subsample': 0.7953294430401857, 'colsample_bytree': 0.7577713242650692}. Best is trial 0 with value: 1.6344763791054953.\n",
      "[I 2025-05-07 17:59:45,299] Trial 2 finished with value: 1.5674768415716056 and parameters: {'n_estimators': 59, 'max_depth': 5, 'learning_rate': 0.10995699228370151, 'subsample': 0.9854105140757214, 'colsample_bytree': 0.9090709056964614}. Best is trial 2 with value: 1.5674768415716056.\n",
      "[I 2025-05-07 17:59:45,448] Trial 3 finished with value: 1.606588486291297 and parameters: {'n_estimators': 56, 'max_depth': 8, 'learning_rate': 0.1410472837827268, 'subsample': 0.8565978771243121, 'colsample_bytree': 0.6857186933099333}. Best is trial 2 with value: 1.5674768415716056.\n",
      "[I 2025-05-07 17:59:45,630] Trial 4 finished with value: 1.7722951335122565 and parameters: {'n_estimators': 120, 'max_depth': 7, 'learning_rate': 0.2858594836738186, 'subsample': 0.6580884294072041, 'colsample_bytree': 0.9118402166091926}. Best is trial 2 with value: 1.5674768415716056.\n",
      "[I 2025-05-07 17:59:46,067] Trial 5 finished with value: 1.7433465236013894 and parameters: {'n_estimators': 196, 'max_depth': 8, 'learning_rate': 0.2293928266205195, 'subsample': 0.6627149912913435, 'colsample_bytree': 0.8968965757024159}. Best is trial 2 with value: 1.5674768415716056.\n",
      "[I 2025-05-07 17:59:46,479] Trial 6 finished with value: 1.6860931596781685 and parameters: {'n_estimators': 75, 'max_depth': 10, 'learning_rate': 0.25246838377445513, 'subsample': 0.9776559663686165, 'colsample_bytree': 0.6527409494663362}. Best is trial 2 with value: 1.5674768415716056.\n",
      "[I 2025-05-07 17:59:46,537] Trial 7 finished with value: 1.6468669542491772 and parameters: {'n_estimators': 65, 'max_depth': 3, 'learning_rate': 0.04239491513162232, 'subsample': 0.8082867852477107, 'colsample_bytree': 0.7152322021269473}. Best is trial 2 with value: 1.5674768415716056.\n",
      "[I 2025-05-07 17:59:47,153] Trial 8 finished with value: 1.7241518885849836 and parameters: {'n_estimators': 95, 'max_depth': 10, 'learning_rate': 0.28543549672733454, 'subsample': 0.7689834829305595, 'colsample_bytree': 0.6360233039980093}. Best is trial 2 with value: 1.5674768415716056.\n",
      "[I 2025-05-07 17:59:47,592] Trial 9 finished with value: 1.6510691599553322 and parameters: {'n_estimators': 99, 'max_depth': 9, 'learning_rate': 0.1662416615881723, 'subsample': 0.879165365652369, 'colsample_bytree': 0.7956605138303944}. Best is trial 2 with value: 1.5674768415716056.\n",
      "[I 2025-05-07 17:59:47,764] Trial 10 finished with value: 1.5590444272131498 and parameters: {'n_estimators': 161, 'max_depth': 5, 'learning_rate': 0.06595539934600103, 'subsample': 0.9935421748316314, 'colsample_bytree': 0.9543254582203899}. Best is trial 10 with value: 1.5590444272131498.\n",
      "[I 2025-05-07 17:59:47,894] Trial 11 finished with value: 1.5607225746930626 and parameters: {'n_estimators': 164, 'max_depth': 5, 'learning_rate': 0.06901877627780971, 'subsample': 0.9984725183917492, 'colsample_bytree': 0.9975472773692171}. Best is trial 10 with value: 1.5590444272131498.\n",
      "[I 2025-05-07 17:59:48,057] Trial 12 finished with value: 1.5505612656595524 and parameters: {'n_estimators': 166, 'max_depth': 5, 'learning_rate': 0.023211794605191488, 'subsample': 0.9277778633777699, 'colsample_bytree': 0.9796132522862121}. Best is trial 12 with value: 1.5505612656595524.\n",
      "[I 2025-05-07 17:59:48,159] Trial 13 finished with value: 1.6271070795759794 and parameters: {'n_estimators': 161, 'max_depth': 3, 'learning_rate': 0.01920523324581666, 'subsample': 0.917835106207573, 'colsample_bytree': 0.9967332253841006}. Best is trial 12 with value: 1.5505612656595524.\n",
      "[I 2025-05-07 17:59:48,328] Trial 14 finished with value: 1.584154069909804 and parameters: {'n_estimators': 155, 'max_depth': 6, 'learning_rate': 0.08512861501993144, 'subsample': 0.9289249583177088, 'colsample_bytree': 0.950604930134413}. Best is trial 12 with value: 1.5505612656595524.\n",
      "[I 2025-05-07 17:59:48,456] Trial 15 finished with value: 1.5989721757019038 and parameters: {'n_estimators': 189, 'max_depth': 4, 'learning_rate': 0.01290649554053605, 'subsample': 0.9397586529629671, 'colsample_bytree': 0.8590566777129954}. Best is trial 12 with value: 1.5505612656595524.\n",
      "[I 2025-05-07 17:59:48,622] Trial 16 finished with value: 1.5629145498451331 and parameters: {'n_estimators': 138, 'max_depth': 6, 'learning_rate': 0.059559085723626774, 'subsample': 0.8673531753588661, 'colsample_bytree': 0.9590785435341762}. Best is trial 12 with value: 1.5505612656595524.\n",
      "[I 2025-05-07 17:59:48,725] Trial 17 finished with value: 1.5745638364830774 and parameters: {'n_estimators': 175, 'max_depth': 4, 'learning_rate': 0.11569283596154456, 'subsample': 0.9481004842068175, 'colsample_bytree': 0.8416460926720205}. Best is trial 12 with value: 1.5505612656595524.\n",
      "[I 2025-05-07 17:59:48,826] Trial 18 finished with value: 1.5484403384101708 and parameters: {'n_estimators': 140, 'max_depth': 4, 'learning_rate': 0.04290267239924432, 'subsample': 0.7270023538601585, 'colsample_bytree': 0.9565459585238784}. Best is trial 18 with value: 1.5484403384101708.\n",
      "[I 2025-05-07 17:59:48,929] Trial 19 finished with value: 1.6172280835543837 and parameters: {'n_estimators': 138, 'max_depth': 4, 'learning_rate': 0.20291164078673563, 'subsample': 0.723405201155049, 'colsample_bytree': 0.8797372177910839}. Best is trial 18 with value: 1.5484403384101708.\n",
      "[I 2025-05-07 17:59:49,187] Trial 20 finished with value: 1.5463270065468602 and parameters: {'n_estimators': 140, 'max_depth': 7, 'learning_rate': 0.03741029040946879, 'subsample': 0.6000093159196244, 'colsample_bytree': 0.778307654932581}. Best is trial 20 with value: 1.5463270065468602.\n",
      "[I 2025-05-07 17:59:49,392] Trial 21 finished with value: 1.5521100573164073 and parameters: {'n_estimators': 140, 'max_depth': 7, 'learning_rate': 0.03613403049247116, 'subsample': 0.612132406446767, 'colsample_bytree': 0.7936421053678027}. Best is trial 20 with value: 1.5463270065468602.\n",
      "[I 2025-05-07 17:59:49,536] Trial 22 finished with value: 1.5914577066328879 and parameters: {'n_estimators': 122, 'max_depth': 6, 'learning_rate': 0.09222715364618209, 'subsample': 0.7173864083406716, 'colsample_bytree': 0.7580511824229684}. Best is trial 20 with value: 1.5463270065468602.\n",
      "[I 2025-05-07 17:59:49,649] Trial 23 finished with value: 1.5487875239425624 and parameters: {'n_estimators': 177, 'max_depth': 4, 'learning_rate': 0.04002212357925847, 'subsample': 0.6015001100288071, 'colsample_bytree': 0.737440563377235}. Best is trial 20 with value: 1.5463270065468602.\n",
      "[I 2025-05-07 17:59:49,764] Trial 24 finished with value: 1.5590711309215757 and parameters: {'n_estimators': 185, 'max_depth': 3, 'learning_rate': 0.051452156552911354, 'subsample': 0.6008264913671922, 'colsample_bytree': 0.7274974927764845}. Best is trial 20 with value: 1.5463270065468602.\n",
      "[I 2025-05-07 17:59:49,891] Trial 25 finished with value: 1.5885474085515625 and parameters: {'n_estimators': 150, 'max_depth': 4, 'learning_rate': 0.13554733498716143, 'subsample': 0.6470502125672817, 'colsample_bytree': 0.7678164934664119}. Best is trial 20 with value: 1.5463270065468602.\n",
      "[I 2025-05-07 17:59:50,077] Trial 26 finished with value: 1.5877556292698043 and parameters: {'n_estimators': 111, 'max_depth': 7, 'learning_rate': 0.09163417565520461, 'subsample': 0.7021827328741754, 'colsample_bytree': 0.686917037722128}. Best is trial 20 with value: 1.5463270065468602.\n",
      "[I 2025-05-07 17:59:50,444] Trial 27 finished with value: 1.579536403645733 and parameters: {'n_estimators': 175, 'max_depth': 8, 'learning_rate': 0.04232282230150764, 'subsample': 0.684701687781398, 'colsample_bytree': 0.8066313025298701}. Best is trial 20 with value: 1.5463270065468602.\n",
      "[I 2025-05-07 17:59:50,635] Trial 28 finished with value: 1.626403614658931 and parameters: {'n_estimators': 147, 'max_depth': 6, 'learning_rate': 0.01035085775855851, 'subsample': 0.6303461700726213, 'colsample_bytree': 0.8179194362320363}. Best is trial 20 with value: 1.5463270065468602.\n",
      "[I 2025-05-07 17:59:50,739] Trial 29 finished with value: 1.5621114318198588 and parameters: {'n_estimators': 132, 'max_depth': 3, 'learning_rate': 0.07725516156392251, 'subsample': 0.7499947762772714, 'colsample_bytree': 0.7260269520433579}. Best is trial 20 with value: 1.5463270065468602.\n",
      "[I 2025-05-07 17:59:50,821] Trial 30 finished with value: 1.5834764023745491 and parameters: {'n_estimators': 86, 'max_depth': 4, 'learning_rate': 0.03202882215618215, 'subsample': 0.6270241952348374, 'colsample_bytree': 0.8391793814952535}. Best is trial 20 with value: 1.5463270065468602.\n",
      "[I 2025-05-07 17:59:50,978] Trial 31 finished with value: 1.5464172301060697 and parameters: {'n_estimators': 169, 'max_depth': 5, 'learning_rate': 0.030536932959698438, 'subsample': 0.8290939529650497, 'colsample_bytree': 0.9334923950916806}. Best is trial 20 with value: 1.5463270065468602.\n",
      "[I 2025-05-07 17:59:51,094] Trial 32 finished with value: 1.5557110227116318 and parameters: {'n_estimators': 175, 'max_depth': 4, 'learning_rate': 0.05253182046694623, 'subsample': 0.8254039483317863, 'colsample_bytree': 0.6019009188035144}. Best is trial 20 with value: 1.5463270065468602.\n",
      "[I 2025-05-07 17:59:51,294] Trial 33 finished with value: 1.591473819230431 and parameters: {'n_estimators': 200, 'max_depth': 5, 'learning_rate': 0.10548585774047961, 'subsample': 0.7716863483344015, 'colsample_bytree': 0.9296698615912569}. Best is trial 20 with value: 1.5463270065468602.\n",
      "[I 2025-05-07 17:59:51,480] Trial 34 finished with value: 1.5428817037027183 and parameters: {'n_estimators': 184, 'max_depth': 5, 'learning_rate': 0.030806229098981043, 'subsample': 0.8391210951310146, 'colsample_bytree': 0.7717608354196355}. Best is trial 34 with value: 1.5428817037027183.\n",
      "[I 2025-05-07 17:59:51,583] Trial 35 finished with value: 1.573088086674375 and parameters: {'n_estimators': 115, 'max_depth': 5, 'learning_rate': 0.12446424899703593, 'subsample': 0.8384415946049986, 'colsample_bytree': 0.7732192354966656}. Best is trial 34 with value: 1.5428817037027183.\n",
      "[I 2025-05-07 17:59:51,783] Trial 36 finished with value: 1.5772750473738744 and parameters: {'n_estimators': 126, 'max_depth': 7, 'learning_rate': 0.06585244347684105, 'subsample': 0.7955718398816414, 'colsample_bytree': 0.8769283720254927}. Best is trial 34 with value: 1.5428817037027183.\n",
      "[I 2025-05-07 17:59:51,978] Trial 37 finished with value: 1.5443034778679352 and parameters: {'n_estimators': 183, 'max_depth': 6, 'learning_rate': 0.021764217474333408, 'subsample': 0.8886249299248989, 'colsample_bytree': 0.9258209402998133}. Best is trial 34 with value: 1.5428817037027183.\n",
      "[I 2025-05-07 17:59:52,212] Trial 38 finished with value: 1.5479382639333976 and parameters: {'n_estimators': 188, 'max_depth': 6, 'learning_rate': 0.02589367009616178, 'subsample': 0.8864898869879362, 'colsample_bytree': 0.8212015454223913}. Best is trial 34 with value: 1.5428817037027183.\n",
      "[I 2025-05-07 17:59:52,653] Trial 39 finished with value: 1.6475716198839376 and parameters: {'n_estimators': 183, 'max_depth': 8, 'learning_rate': 0.15889083326782824, 'subsample': 0.8382525834927087, 'colsample_bytree': 0.9204912993256009}. Best is trial 34 with value: 1.5428817037027183.\n",
      "[I 2025-05-07 17:59:52,939] Trial 40 finished with value: 1.6799548337284271 and parameters: {'n_estimators': 195, 'max_depth': 7, 'learning_rate': 0.18999687626837547, 'subsample': 0.8876186182340279, 'colsample_bytree': 0.8902861875955511}. Best is trial 34 with value: 1.5428817037027183.\n",
      "[I 2025-05-07 17:59:53,124] Trial 41 finished with value: 1.5467424171611672 and parameters: {'n_estimators': 188, 'max_depth': 6, 'learning_rate': 0.027938016409890184, 'subsample': 0.9092802611196191, 'colsample_bytree': 0.7842893055870729}. Best is trial 34 with value: 1.5428817037027183.\n",
      "[I 2025-05-07 17:59:53,309] Trial 42 finished with value: 1.5432237010378236 and parameters: {'n_estimators': 169, 'max_depth': 6, 'learning_rate': 0.023551834496041826, 'subsample': 0.911063610889555, 'colsample_bytree': 0.7835664083585753}. Best is trial 34 with value: 1.5428817037027183.\n",
      "[I 2025-05-07 17:59:53,484] Trial 43 finished with value: 1.5899099511912305 and parameters: {'n_estimators': 169, 'max_depth': 6, 'learning_rate': 0.01217088823126049, 'subsample': 0.8552701289700517, 'colsample_bytree': 0.7021681498267992}. Best is trial 34 with value: 1.5428817037027183.\n",
      "[I 2025-05-07 17:59:53,610] Trial 44 finished with value: 1.5503379986615162 and parameters: {'n_estimators': 154, 'max_depth': 5, 'learning_rate': 0.05368310023340555, 'subsample': 0.9671266854657132, 'colsample_bytree': 0.7514013470451976}. Best is trial 34 with value: 1.5428817037027183.\n",
      "[I 2025-05-07 17:59:53,911] Trial 45 finished with value: 1.607408657727864 and parameters: {'n_estimators': 168, 'max_depth': 7, 'learning_rate': 0.080349549810625, 'subsample': 0.8197719172155649, 'colsample_bytree': 0.8573783681063005}. Best is trial 34 with value: 1.5428817037027183.\n",
      "[I 2025-05-07 17:59:54,772] Trial 46 finished with value: 1.5703120488725555 and parameters: {'n_estimators': 181, 'max_depth': 9, 'learning_rate': 0.026165210297449868, 'subsample': 0.9031634950278575, 'colsample_bytree': 0.8248626704053018}. Best is trial 34 with value: 1.5428817037027183.\n",
      "[I 2025-05-07 17:59:54,909] Trial 47 finished with value: 1.6576980585139602 and parameters: {'n_estimators': 158, 'max_depth': 5, 'learning_rate': 0.23828683330667372, 'subsample': 0.8597314820992954, 'colsample_bytree': 0.9352665825717013}. Best is trial 34 with value: 1.5428817037027183.\n",
      "[I 2025-05-07 17:59:55,095] Trial 48 finished with value: 1.5699483396894602 and parameters: {'n_estimators': 193, 'max_depth': 5, 'learning_rate': 0.06842295959534124, 'subsample': 0.7781957223914757, 'colsample_bytree': 0.7799331818329478}. Best is trial 34 with value: 1.5428817037027183.\n",
      "[I 2025-05-07 17:59:55,522] Trial 49 finished with value: 1.5900993265699086 and parameters: {'n_estimators': 169, 'max_depth': 8, 'learning_rate': 0.04688645538109061, 'subsample': 0.9592180895989698, 'colsample_bytree': 0.9086398587422504}. Best is trial 34 with value: 1.5428817037027183.\n"
     ]
    },
    {
     "name": "stdout",
     "output_type": "stream",
     "text": [
      "Лучшие параметры (Optuna): {'n_estimators': 184, 'max_depth': 5, 'learning_rate': 0.030806229098981043, 'subsample': 0.8391210951310146, 'colsample_bytree': 0.7717608354196355}\n",
      "Лучшая MAE: 1.5428817037027183\n"
     ]
    }
   ],
   "source": [
    "# 13. Optuna для XGBoost\n",
    "import optuna\n",
    "from sklearn.model_selection import cross_val_score\n",
    "\n",
    "def objective(trial):\n",
    "    params = {\n",
    "        'n_estimators': trial.suggest_int('n_estimators', 50, 200),\n",
    "        'max_depth': trial.suggest_int('max_depth', 3, 10),\n",
    "        'learning_rate': trial.suggest_float('learning_rate', 0.01, 0.3),\n",
    "        'subsample': trial.suggest_float('subsample', 0.6, 1.0),\n",
    "        'colsample_bytree': trial.suggest_float('colsample_bytree', 0.6, 1.0),\n",
    "        'random_state': 42\n",
    "    }\n",
    "\n",
    "    model = XGBRegressor(**params)\n",
    "    pipe = Pipeline(steps=[('preprocessor', preprocessor_num), ('model', model)])\n",
    "    score = -cross_val_score(pipe, X_train_num, y_train, scoring='neg_mean_absolute_error', cv=5, n_jobs=-1).mean()\n",
    "    return score\n",
    "\n",
    "study = optuna.create_study(direction='minimize')\n",
    "study.optimize(objective, n_trials=50)\n",
    "\n",
    "print(\"Лучшие параметры (Optuna):\", study.best_params)\n",
    "print(\"Лучшая MAE:\", study.best_value)"
   ]
  },
  {
   "cell_type": "code",
   "execution_count": 21,
   "id": "3bd39618",
   "metadata": {},
   "outputs": [
    {
     "name": "stdout",
     "output_type": "stream",
     "text": [
      "Модель: XGB (Optuna)\n",
      "MAE: 1.5366, RMSE: 2.1625, R²: 0.5454\n",
      "\n"
     ]
    },
    {
     "data": {
      "text/plain": [
       "{'MAE': 1.53656659422879, 'RMSE': 2.162492089023414, 'R²': 0.5454263286435039}"
      ]
     },
     "execution_count": 21,
     "metadata": {},
     "output_type": "execute_result"
    }
   ],
   "source": [
    "best_xgb_optuna = Pipeline([\n",
    "    ('preprocessor', preprocessor_num),\n",
    "    ('model', XGBRegressor(**study.best_params, random_state=42))\n",
    "])\n",
    "best_xgb_optuna.fit(X_train_num, y_train)\n",
    "y_pred_optuna = best_xgb_optuna.predict(X_test_num)\n",
    "evaluate_model(y_test, y_pred_optuna, \"XGB (Optuna)\")"
   ]
  },
  {
   "cell_type": "markdown",
   "id": "4e25dea2",
   "metadata": {},
   "source": [
    "Похоже, что улучшить не удалось. Параметры по умолчанию хорошо работают \"из коробки\".\n",
    "| Model          | MAE_after | RMSE_after | R²_after  |\n",
    "|----------------|-----------|------------|-----------|\n",
    "| XGB            | 1.533410  | 2.173861   | 0.540634  |\n",
    "| XGB (Optuna)   | 1.5503    | 2.1735     | 0.5408    |"
   ]
  },
  {
   "cell_type": "markdown",
   "id": "6d366362",
   "metadata": {},
   "source": [
    "Теперь следующий шаг.\n",
    "- Добавление категориальных признаков\n",
    "- Выбор лучшей модели (XGB) + добавка CatBoost и LightGBM\n",
    "- Подбор гиперпараметров и проверка - улучшится ли качество модели за счёт новых данных\n",
    "- Сравнение метрик до/после"
   ]
  },
  {
   "cell_type": "code",
   "execution_count": 22,
   "id": "012945dd",
   "metadata": {},
   "outputs": [],
   "source": [
    "# 14. Теперь добавляем категориальные признаки\n",
    "X_train_full, X_test_full, y_train, y_test = train_test_split(X_full, y, test_size=0.25, random_state=42)"
   ]
  },
  {
   "cell_type": "code",
   "execution_count": 23,
   "id": "a90bbdc4",
   "metadata": {},
   "outputs": [],
   "source": [
    "# 15. Препроцессор с категориями\n",
    "preprocessor_with_cat = ColumnTransformer(\n",
    "    transformers=[\n",
    "        ('num', Pipeline([\n",
    "            ('imputer', SimpleImputer(strategy='median')),\n",
    "            ('scaler', StandardScaler())\n",
    "        ]), numeric_features),\n",
    "        ('cat', OneHotEncoder(handle_unknown='ignore'), categorical_features)\n",
    "    ])"
   ]
  },
  {
   "cell_type": "code",
   "execution_count": 24,
   "id": "3be365cb",
   "metadata": {},
   "outputs": [],
   "source": [
    "# 16. Модели с категориями - используем варианты бустинга\n",
    "models_with_cat = {\n",
    "    'XGB': XGBRegressor(random_state=42),\n",
    "    'LGBM': LGBMRegressor(random_state=42),\n",
    "    'CatBoost': CatBoostRegressor(random_state=42, verbose=0)\n",
    "}\n",
    "\n",
    "param_grids_with_cat = {\n",
    "    'XGB': {\n",
    "        'model__n_estimators': [50, 100],\n",
    "        'model__learning_rate': [0.01, 0.1],\n",
    "        'model__max_depth': [3, 5]\n",
    "    },\n",
    "    'LGBM': {\n",
    "        'model__n_estimators': [50, 100],\n",
    "        'model__learning_rate': [0.01, 0.1],\n",
    "        'model__num_leaves': [20, 31]\n",
    "    },\n",
    "    'CatBoost': {\n",
    "        'model__iterations': [50, 100],\n",
    "        'model__learning_rate': [0.01, 0.1],\n",
    "        'model__depth': [4, 6]\n",
    "    }\n",
    "}"
   ]
  },
  {
   "cell_type": "code",
   "execution_count": 25,
   "id": "b3efaa3c",
   "metadata": {},
   "outputs": [
    {
     "name": "stdout",
     "output_type": "stream",
     "text": [
      "==================================================\n",
      "Обучение модели: XGB с категориальными признаками\n",
      "Модель: XGB (с категориями)\n",
      "MAE: 1.5486, RMSE: 2.1901, R²: 0.5338\n",
      "\n",
      "==================================================\n",
      "Обучение модели: LGBM с категориальными признаками\n",
      "[LightGBM] [Info] Auto-choosing col-wise multi-threading, the overhead of testing was 0.000288 seconds.\n",
      "You can set `force_col_wise=true` to remove the overhead.\n",
      "[LightGBM] [Info] Total Bins 1298\n",
      "[LightGBM] [Info] Number of data points in the train set: 3132, number of used features: 11\n",
      "[LightGBM] [Info] Start training from score 11.464879\n",
      "Модель: LGBM (с категориями)\n",
      "MAE: 1.5095, RMSE: 2.1541, R²: 0.5489\n",
      "\n",
      "==================================================\n",
      "Обучение модели: CatBoost с категориальными признаками\n"
     ]
    },
    {
     "name": "stderr",
     "output_type": "stream",
     "text": [
      "c:\\Programs\\Python312\\Lib\\site-packages\\sklearn\\utils\\validation.py:2739: UserWarning: X does not have valid feature names, but LGBMRegressor was fitted with feature names\n",
      "  warnings.warn(\n"
     ]
    },
    {
     "name": "stdout",
     "output_type": "stream",
     "text": [
      "Модель: CatBoost (с категориями)\n",
      "MAE: 1.5274, RMSE: 2.1558, R²: 0.5482\n",
      "\n"
     ]
    }
   ],
   "source": [
    "best_metrics_with_cat = {}\n",
    "best_models_with_cat = {}\n",
    "\n",
    "for name, model in models_with_cat.items():\n",
    "    print(f\"{'='*50}\\nОбучение модели: {name} с категориальными признаками\")\n",
    "    \n",
    "    pipe = Pipeline(steps=[('preprocessor', preprocessor_with_cat), ('model', model)])\n",
    "    \n",
    "    if name in param_grids_with_cat and len(param_grids_with_cat[name]) > 0:\n",
    "        gs = GridSearchCV(pipe, param_grids_with_cat[name], scoring='r2', cv=5, n_jobs=-1)\n",
    "        gs.fit(X_train_full, y_train)\n",
    "        \n",
    "        best_model = gs.best_estimator_\n",
    "        y_pred = best_model.predict(X_test_full)\n",
    "        metrics = evaluate_model(y_test, y_pred, f\"{name} (с категориями)\")\n",
    "        best_metrics_with_cat[name] = metrics\n",
    "        \n",
    "    else:\n",
    "        pipe.fit(X_train_full, y_train)\n",
    "        y_pred = pipe.predict(X_test_full)\n",
    "        metrics = evaluate_model(y_test, y_pred, f\"{name} (по умолчанию)\")\n",
    "        best_metrics_with_cat[name] = metrics\n",
    "\n",
    "    best_models_with_cat[name] = best_model  # <-- мы сохраняем лучшую модель сюда"
   ]
  },
  {
   "cell_type": "code",
   "execution_count": 26,
   "id": "44b983a2",
   "metadata": {},
   "outputs": [
    {
     "name": "stdout",
     "output_type": "stream",
     "text": [
      "\n",
      "Сводная таблица: до/после добавления категориальных признаков\n",
      "  Model  MAE      MAE_with_cat  MAE_diff  RMSE     RMSE_with_cat  RMSE_diff  R²       R²_with_cat  R²_diff \n",
      "0  XGB  1.533410 1.548604      -0.015194 2.173861 2.190053       -0.016192  0.540634 0.533766     -0.006868\n"
     ]
    }
   ],
   "source": [
    "# 17. Делаем сводную таблицу с категориями\n",
    "df_best_results_with_cat = pd.DataFrame(best_metrics_with_cat).T\n",
    "df_best_results_with_cat.index.name = 'Model'\n",
    "df_best_results_with_cat.reset_index(inplace=True)\n",
    "df_best_results_with_cat.columns = ['Model', 'MAE_with_cat', 'RMSE_with_cat', 'R²_with_cat']\n",
    " \n",
    "# Берём только XGB из df_best_results_num\n",
    "df_best_results_num_xgb = df_best_results_num[df_best_results_num['Model'] == 'XGB']\n",
    "\n",
    "# 18. Соединяем с предыдущими результатами\n",
    "# Объединяем с df_best_results_with_cat\n",
    "df_comparison = pd.merge(\n",
    "    df_best_results_num_xgb,\n",
    "    df_best_results_with_cat,\n",
    "    on='Model',\n",
    "    suffixes=('', '_with_cat')\n",
    ")\n",
    "\n",
    "# 19. Вычисляем разницу\n",
    "df_comparison['MAE_diff'] = df_comparison['MAE'] - df_comparison['MAE_with_cat']\n",
    "df_comparison['RMSE_diff'] = df_comparison['RMSE'] - df_comparison['RMSE_with_cat']\n",
    "df_comparison['R²_diff'] = df_comparison['R²_with_cat'] - df_comparison['R²']\n",
    "\n",
    "# 20. Форматируем вывод\n",
    "pd.set_option('display.float_format', '{:.6f}'.format)\n",
    "pd.set_option('display.width', 1000)\n",
    "pd.set_option('display.max_columns', None)\n",
    "\n",
    "print(\"\\nСводная таблица: до/после добавления категориальных признаков\")\n",
    "print(df_comparison[['Model', 'MAE', 'MAE_with_cat', 'MAE_diff',\n",
    "                     'RMSE', 'RMSE_with_cat', 'RMSE_diff',\n",
    "                     'R²', 'R²_with_cat', 'R²_diff']])"
   ]
  },
  {
   "cell_type": "markdown",
   "id": "1dc0e766",
   "metadata": {},
   "source": [
    "Получаем странный результат. После добавления категориальных признаков качество XGBoost немного упало : \n",
    "- MAE увеличился\n",
    "- R² уменьшился"
   ]
  },
  {
   "cell_type": "code",
   "execution_count": 27,
   "id": "dec474fa",
   "metadata": {},
   "outputs": [
    {
     "name": "stdout",
     "output_type": "stream",
     "text": [
      "\n",
      "Результаты на числовых признаках:\n",
      "  Model           MAE      RMSE     R²     \n",
      "0         Linear 1.665108 2.265094 0.501268\n",
      "1          Ridge 1.664636 2.264732 0.501427\n",
      "2  BayesianRidge 1.664176 2.264391 0.501577\n",
      "3            kNN 1.629665 2.307392 0.482467\n",
      "4   RandomForest 1.599301 2.227711 0.517594\n",
      "5            XGB 1.660771 2.326592 0.473818\n",
      "\n",
      "Результаты с категориальными признаками:\n",
      "  Model      MAE_with_cat  RMSE_with_cat  R²_with_cat\n",
      "0       XGB 1.548604      2.190053       0.533766    \n",
      "1      LGBM 1.509517      2.154103       0.548946    \n",
      "2  CatBoost 1.527365      2.155839       0.548219    \n",
      "\n",
      "Сводное сравнение XGB до и после добавления категорий:\n",
      "Metric  Before (numeric only)  After (with categories)  Difference\n",
      " MAE   1.533410               1.548604                 -0.015194  \n",
      "RMSE   2.173861               2.190053                 -0.016192  \n",
      "  R²   0.540634               0.533766                 -0.006868  \n"
     ]
    }
   ],
   "source": [
    "# Таблица 1: модели только на числах\n",
    "print(\"\\nРезультаты на числовых признаках:\")\n",
    "print(df_results_num)\n",
    "\n",
    "# Таблица 2: модели с категориями\n",
    "print(\"\\nРезультаты с категориальными признаками:\")\n",
    "print(df_best_results_with_cat)\n",
    "\n",
    "# Теперь сравниваем только XGB\n",
    "xgb_only_num = df_best_results_num[df_best_results_num['Model'] == 'XGB']\n",
    "xgb_only_cat = df_best_results_with_cat[df_best_results_with_cat['Model'] == 'XGB']\n",
    "\n",
    "if not xgb_only_num.empty and not xgb_only_cat.empty:\n",
    "    df_comparison = pd.DataFrame({\n",
    "        'Metric': ['MAE', 'RMSE', 'R²'],\n",
    "        'Before (numeric only)': [\n",
    "            xgb_only_num['MAE'].values[0],\n",
    "            xgb_only_num['RMSE'].values[0],\n",
    "            xgb_only_num['R²'].values[0]\n",
    "        ],\n",
    "        'After (with categories)': [\n",
    "            xgb_only_cat['MAE_with_cat'].values[0],\n",
    "            xgb_only_cat['RMSE_with_cat'].values[0],\n",
    "            xgb_only_cat['R²_with_cat'].values[0]\n",
    "        ],\n",
    "        'Difference': [\n",
    "            xgb_only_num['MAE'].values[0] - xgb_only_cat['MAE_with_cat'].values[0],\n",
    "            xgb_only_num['RMSE'].values[0] - xgb_only_cat['RMSE_with_cat'].values[0],\n",
    "            xgb_only_cat['R²_with_cat'].values[0] - xgb_only_num['R²'].values[0]\n",
    "        ]\n",
    "    })\n",
    "\n",
    "    print(\"\\nСводное сравнение XGB до и после добавления категорий:\")\n",
    "    print(df_comparison.to_string(index=False))\n",
    "else:\n",
    "    print(\"Ошибка: не найдены данные для XGB в одной из таблиц.\")"
   ]
  },
  {
   "cell_type": "markdown",
   "id": "696c9242",
   "metadata": {},
   "source": [
    "- Категориальный признак 'Sex' не помог XGBoost, он даже усложнил задачу и ухудшил качество модели\n",
    "- Но для других моделей (LGBM и CatBoost), наоборот, качество улучшилось"
   ]
  },
  {
   "cell_type": "markdown",
   "id": "6d3f45ef",
   "metadata": {},
   "source": [
    "Пробуем обучить CatBoost без препроцессора, потому что он сам умеет работать с категориями, но это не помогло улучшить модель, метрики даже упали"
   ]
  },
  {
   "cell_type": "code",
   "execution_count": 28,
   "id": "2e30a4f0",
   "metadata": {},
   "outputs": [
    {
     "name": "stdout",
     "output_type": "stream",
     "text": [
      "Модель: CatBoost (нативно)\n",
      "MAE: 1.5301, RMSE: 2.1594, R²: 0.5467\n",
      "\n"
     ]
    }
   ],
   "source": [
    "from catboost import Pool\n",
    "\n",
    "# Укажем, какие признаки категориальные\n",
    "cat_features = X_full.select_dtypes(exclude=np.number).columns.tolist()\n",
    "\n",
    "train_pool = Pool(X_train_full, y_train, cat_features=cat_features)\n",
    "test_pool = Pool(X_test_full, y_test, cat_features=cat_features)\n",
    "\n",
    "model = CatBoostRegressor(iterations=100, learning_rate=0.1, depth=6, verbose=0)\n",
    "model.fit(train_pool)\n",
    "\n",
    "y_pred = model.predict(test_pool)\n",
    "metrics = evaluate_model(y_test, y_pred, \"CatBoost (нативно)\")"
   ]
  },
  {
   "cell_type": "markdown",
   "id": "74d4e009",
   "metadata": {},
   "source": [
    "По итогу LGBM показало наилучшие результаты - с ним и двинемся дальше"
   ]
  },
  {
   "cell_type": "code",
   "execution_count": 33,
   "id": "f34a735b",
   "metadata": {},
   "outputs": [
    {
     "name": "stderr",
     "output_type": "stream",
     "text": [
      "PermutationExplainer explainer: 1046it [00:54, 19.31it/s]                          "
     ]
    },
    {
     "name": "stdout",
     "output_type": "stream",
     "text": [
      "Generating self.shap_explainer = shap.TreeExplainer(model)\n",
      "Building ExplainerDashboard..\n"
     ]
    },
    {
     "name": "stderr",
     "output_type": "stream",
     "text": [
      "\n"
     ]
    },
    {
     "name": "stdout",
     "output_type": "stream",
     "text": [
      "WARNING: the number of idxs (=1045) > max_idxs_in_dropdown(=1000). However with your installed version of dash(3.0.2) dropdown search may not work smoothly. You can downgrade to `pip install dash==2.6.2` which should work better for now...\n",
      "Detected notebook environment, consider setting mode='external', mode='inline' or mode='jupyterlab' to keep the notebook interactive while the dashboard is running...\n",
      "The explainer object has no decision_trees property. so setting decision_trees=False...\n",
      "Warning: calculating shap interaction values can be slow! Pass shap_interaction=False to remove interactions tab.\n",
      "Generating layout...\n",
      "Calculating shap values...\n",
      "Calculating predictions...\n",
      "Calculating residuals...\n",
      "Calculating absolute residuals...\n",
      "Calculating shap interaction values...\n",
      "Reminder: TreeShap computational complexity is O(TLD^2), where T is the number of trees, L is the maximum number of leaves in any tree and D the maximal depth of any tree. So reducing these will speed up the calculation.\n",
      "Calculating dependencies...\n",
      "Calculating importances...\n",
      "Reminder: you can store the explainer (including calculated dependencies) with explainer.dump('explainer.joblib') and reload with e.g. ClassifierExplainer.from_file('explainer.joblib')\n",
      "Registering callbacks...\n",
      "Dumping configuration .yaml to c:\\Programs\\PythonProjects\\EDA_and_dev\\eda_and_dev_tools\\abalone_lgbm_dashboard.yaml...\n",
      "Dumping explainer to c:\\Programs\\PythonProjects\\EDA_and_dev\\eda_and_dev_tools\\lgbm_explainer.joblib...\n"
     ]
    }
   ],
   "source": [
    "import shap\n",
    "from explainerdashboard import RegressionExplainer, ExplainerDashboard\n",
    "\n",
    "# 1. Берём обученную LGBM-модель из best_models_with_cat\n",
    "best_lgbm_model = best_models_with_cat['LGBM']\n",
    "\n",
    "# 2. Получаем предобработчик и сам регрессор\n",
    "preprocessor = best_lgbm_model.named_steps['preprocessor']\n",
    "model = best_lgbm_model.named_steps['model']\n",
    "\n",
    "# 3. Применяем препроцессор к тестовой выборке\n",
    "X_test_processed = preprocessor.transform(X_test_full)\n",
    "\n",
    "# 4. Создаём DataFrame с понятными именами признаков после OHE\n",
    "cat_feature_names = preprocessor.named_transformers_['cat'].get_feature_names_out(categorical_features)\n",
    "all_feature_names = list(cat_feature_names) + numeric_features\n",
    "\n",
    "X_test_processed_df = pd.DataFrame(X_test_processed, columns=all_feature_names)\n",
    "\n",
    "# 5. Создаём SHAP-эксплайнер на основе модели и обработанных данных\n",
    "shap_explainer = shap.Explainer(model.predict, X_test_processed_df)\n",
    "shap_values = shap_explainer(X_test_processed_df)\n",
    "\n",
    "# 6. Создаём RegressionExplainer — без параметра shap_explainer\n",
    "reg_explainer = RegressionExplainer(\n",
    "    model,\n",
    "    X_test_processed_df,\n",
    "    y_test,\n",
    "    # SHAP значения передаются напрямую в ExplainerDashboard\n",
    ")\n",
    "\n",
    "# 7. Создаём dashboard\n",
    "db = ExplainerDashboard(reg_explainer, title=\"LGBM Abalone Age Predictor\", shap_mode=\"regression\")\n",
    "\n",
    "# 8. Сохраняем конфигурацию дашборда\n",
    "db.to_yaml(\"abalone_lgbm_dashboard.yaml\", explainerfile=\"lgbm_explainer.joblib\", dump_explainer=True)"
   ]
  },
  {
   "cell_type": "code",
   "execution_count": 34,
   "id": "3205d576",
   "metadata": {},
   "outputs": [
    {
     "data": {
      "text/html": [
       "\n",
       "        <iframe\n",
       "            width=\"100%\"\n",
       "            height=\"650\"\n",
       "            src=\"http://127.0.0.1:8050/\"\n",
       "            frameborder=\"0\"\n",
       "            allowfullscreen\n",
       "            \n",
       "        ></iframe>\n",
       "        "
      ],
      "text/plain": [
       "<IPython.lib.display.IFrame at 0x12405841790>"
      ]
     },
     "metadata": {},
     "output_type": "display_data"
    }
   ],
   "source": [
    "db.app.run()"
   ]
  }
 ],
 "metadata": {
  "kernelspec": {
   "display_name": "Python 3",
   "language": "python",
   "name": "python3"
  },
  "language_info": {
   "codemirror_mode": {
    "name": "ipython",
    "version": 3
   },
   "file_extension": ".py",
   "mimetype": "text/x-python",
   "name": "python",
   "nbconvert_exporter": "python",
   "pygments_lexer": "ipython3",
   "version": "3.12.7"
  }
 },
 "nbformat": 4,
 "nbformat_minor": 5
}
