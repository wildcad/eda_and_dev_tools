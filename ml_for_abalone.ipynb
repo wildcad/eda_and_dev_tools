{
 "cells": [
  {
   "cell_type": "code",
   "execution_count": 51,
   "id": "84239549",
   "metadata": {},
   "outputs": [],
   "source": [
    "import numpy as np\n",
    "import pandas as pd"
   ]
  },
  {
   "cell_type": "code",
   "execution_count": 52,
   "id": "eaacf7dc",
   "metadata": {},
   "outputs": [],
   "source": [
    "# Загружаем и обрабатываем данные заново, т.е. строим универсальный pipeline с обработчиками\n",
    "# 1. Загрузка данных\n",
    "df = pd.read_csv('abalone_clear.csv')\n",
    "\n",
    "df['Age'] = df['Rings'] + 1.5 # Перейдем на возраст вместо колец\n",
    "df.drop(columns=['Sex_num'], inplace=True)\n",
    "\n",
    "# 2. Определяем признаки, все вместе\n",
    "X_full = df.drop(columns=['Age', 'Rings'])\n",
    "y = df['Age']"
   ]
  },
  {
   "cell_type": "code",
   "execution_count": 53,
   "id": "8023275f",
   "metadata": {},
   "outputs": [
    {
     "name": "stdout",
     "output_type": "stream",
     "text": [
      "Числовые признаки: ['Length', 'Diameter', 'Height', 'Whole weight', 'Shucked weight', 'Viscera weight', 'Shell weight']\n",
      "Категориальные признаки: ['Sex']\n"
     ]
    }
   ],
   "source": [
    "numeric_features = X_full.select_dtypes(include=np.number).columns.to_list()\n",
    "categorical_features = X_full.select_dtypes(exclude=np.number).columns.to_list()\n",
    "target_column = 'Age'\n",
    "\n",
    "# 3. Только числовые признаки\n",
    "X_num = df[numeric_features]\n",
    "\n",
    "print(\"Числовые признаки:\", numeric_features)\n",
    "print(\"Категориальные признаки:\", categorical_features)"
   ]
  },
  {
   "cell_type": "code",
   "execution_count": 54,
   "id": "a5ff2522",
   "metadata": {},
   "outputs": [
    {
     "data": {
      "application/vnd.microsoft.datawrangler.viewer.v0+json": {
       "columns": [
        {
         "name": "index",
         "rawType": "int64",
         "type": "integer"
        },
        {
         "name": "Length",
         "rawType": "float64",
         "type": "float"
        },
        {
         "name": "Diameter",
         "rawType": "float64",
         "type": "float"
        },
        {
         "name": "Height",
         "rawType": "float64",
         "type": "float"
        },
        {
         "name": "Whole weight",
         "rawType": "float64",
         "type": "float"
        },
        {
         "name": "Shucked weight",
         "rawType": "float64",
         "type": "float"
        },
        {
         "name": "Viscera weight",
         "rawType": "float64",
         "type": "float"
        },
        {
         "name": "Shell weight",
         "rawType": "float64",
         "type": "float"
        }
       ],
       "conversionMethod": "pd.DataFrame",
       "ref": "124a0ef8-6e2f-4c3d-abb3-586faac8e4de",
       "rows": [
        [
         "0",
         "0.455",
         "0.365",
         "0.095",
         "0.514",
         "0.2245",
         "0.101",
         "0.15"
        ],
        [
         "1",
         "0.35",
         "0.265",
         "0.09",
         "0.2255",
         "0.0995",
         "0.0485",
         "0.07"
        ],
        [
         "2",
         "0.53",
         "0.42",
         "0.135",
         "0.677",
         "0.2565",
         "0.1415",
         "0.21"
        ],
        [
         "3",
         "0.44",
         "0.365",
         "0.125",
         "0.802",
         "0.2155",
         "0.114",
         "0.155"
        ],
        [
         "4",
         "0.33",
         "0.255",
         "0.08",
         "0.205",
         "0.0895",
         "0.0395",
         "0.055"
        ],
        [
         "5",
         "0.425",
         "0.3",
         "0.095",
         "0.3515",
         "0.141",
         "0.0775",
         "0.12"
        ],
        [
         "6",
         "0.53",
         "0.415",
         "0.15",
         "0.7775",
         "0.237",
         "0.1415",
         "0.33"
        ],
        [
         "7",
         "0.545",
         "0.425",
         "0.125",
         "0.768",
         "0.294",
         "0.1495",
         "0.26"
        ],
        [
         "8",
         "0.475",
         "0.37",
         "0.125",
         "0.5095",
         "0.2165",
         "0.1125",
         "0.165"
        ],
        [
         "9",
         "0.55",
         "0.44",
         "0.15",
         "0.8945",
         "0.3145",
         "0.151",
         "0.32"
        ],
        [
         "10",
         "0.525",
         "0.38",
         "0.14",
         "0.6065",
         "0.194",
         "0.1475",
         "0.21"
        ],
        [
         "11",
         "0.43",
         "0.35",
         "0.11",
         "0.406",
         "0.1675",
         "0.081",
         "0.135"
        ],
        [
         "12",
         "0.49",
         "0.38",
         "0.135",
         "0.5415",
         "0.2175",
         "0.095",
         "0.19"
        ],
        [
         "13",
         "0.535",
         "0.405",
         "0.145",
         "0.6845",
         "0.2725",
         "0.171",
         "0.205"
        ],
        [
         "14",
         "0.47",
         "0.355",
         "0.1",
         "0.4755",
         "0.1675",
         "0.0805",
         "0.185"
        ],
        [
         "15",
         "0.5",
         "0.4",
         "0.13",
         "0.6645",
         "0.258",
         "0.133",
         "0.24"
        ],
        [
         "16",
         "0.355",
         "0.28",
         "0.085",
         "0.2905",
         "0.095",
         "0.0395",
         "0.115"
        ],
        [
         "17",
         "0.44",
         "0.34",
         "0.1",
         "0.451",
         "0.188",
         "0.087",
         "0.13"
        ],
        [
         "18",
         "0.365",
         "0.295",
         "0.08",
         "0.2555",
         "0.097",
         "0.043",
         "0.1"
        ],
        [
         "19",
         "0.45",
         "0.32",
         "0.1",
         "0.381",
         "0.1705",
         "0.075",
         "0.115"
        ],
        [
         "20",
         "0.355",
         "0.28",
         "0.095",
         "0.2455",
         "0.0955",
         "0.062",
         "0.075"
        ],
        [
         "21",
         "0.38",
         "0.275",
         "0.1",
         "0.2255",
         "0.08",
         "0.049",
         "0.085"
        ],
        [
         "22",
         "0.565",
         "0.44",
         "0.155",
         "0.9395",
         "0.4275",
         "0.214",
         "0.27"
        ],
        [
         "23",
         "0.55",
         "0.415",
         "0.135",
         "0.7635",
         "0.318",
         "0.21",
         "0.2"
        ],
        [
         "24",
         "0.615",
         "0.48",
         "0.165",
         "1.1615",
         "0.513",
         "0.301",
         "0.305"
        ],
        [
         "25",
         "0.56",
         "0.44",
         "0.14",
         "0.9285",
         "0.3825",
         "0.188",
         "0.3"
        ],
        [
         "26",
         "0.58",
         "0.45",
         "0.185",
         "0.9955",
         "0.3945",
         "0.272",
         "0.285"
        ],
        [
         "27",
         "0.59",
         "0.445",
         "0.14",
         "0.931",
         "0.356",
         "0.234",
         "0.28"
        ],
        [
         "28",
         "0.605",
         "0.475",
         "0.18",
         "0.9365",
         "0.394",
         "0.219",
         "0.295"
        ],
        [
         "29",
         "0.575",
         "0.425",
         "0.14",
         "0.8635",
         "0.393",
         "0.227",
         "0.2"
        ],
        [
         "30",
         "0.58",
         "0.47",
         "0.165",
         "0.9975",
         "0.3935",
         "0.242",
         "0.33"
        ],
        [
         "31",
         "0.68",
         "0.56",
         "0.165",
         "1.639",
         "0.6055",
         "0.2805",
         "0.46"
        ],
        [
         "32",
         "0.665",
         "0.525",
         "0.165",
         "1.338",
         "0.5515",
         "0.3575",
         "0.35"
        ],
        [
         "33",
         "0.68",
         "0.55",
         "0.175",
         "1.798",
         "0.815",
         "0.3925",
         "0.455"
        ],
        [
         "34",
         "0.705",
         "0.55",
         "0.2",
         "1.7095",
         "0.633",
         "0.4115",
         "0.49"
        ],
        [
         "35",
         "0.465",
         "0.355",
         "0.105",
         "0.4795",
         "0.227",
         "0.124",
         "0.125"
        ],
        [
         "36",
         "0.54",
         "0.475",
         "0.155",
         "1.217",
         "0.5305",
         "0.3075",
         "0.34"
        ],
        [
         "37",
         "0.45",
         "0.355",
         "0.105",
         "0.5225",
         "0.237",
         "0.1165",
         "0.145"
        ],
        [
         "38",
         "0.575",
         "0.445",
         "0.135",
         "0.883",
         "0.381",
         "0.2035",
         "0.26"
        ],
        [
         "39",
         "0.355",
         "0.29",
         "0.09",
         "0.3275",
         "0.134",
         "0.086",
         "0.09"
        ],
        [
         "40",
         "0.45",
         "0.335",
         "0.105",
         "0.425",
         "0.1865",
         "0.091",
         "0.115"
        ],
        [
         "41",
         "0.55",
         "0.425",
         "0.135",
         "0.8515",
         "0.362",
         "0.196",
         "0.27"
        ],
        [
         "42",
         "0.24",
         "0.175",
         "0.045",
         "0.07",
         "0.0315",
         "0.0235",
         "0.02"
        ],
        [
         "43",
         "0.205",
         "0.15",
         "0.055",
         "0.802",
         "0.0255",
         "0.015",
         "0.012"
        ],
        [
         "44",
         "0.21",
         "0.15",
         "0.05",
         "0.042",
         "0.0175",
         "0.0125",
         "0.015"
        ],
        [
         "45",
         "0.39",
         "0.295",
         "0.095",
         "0.203",
         "0.0875",
         "0.045",
         "0.075"
        ],
        [
         "46",
         "0.47",
         "0.37",
         "0.12",
         "0.5795",
         "0.293",
         "0.227",
         "0.14"
        ],
        [
         "47",
         "0.46",
         "0.375",
         "0.12",
         "0.4605",
         "0.1775",
         "0.11",
         "0.15"
        ],
        [
         "48",
         "0.325",
         "0.245",
         "0.07",
         "0.161",
         "0.0755",
         "0.0255",
         "0.045"
        ],
        [
         "49",
         "0.525",
         "0.425",
         "0.16",
         "0.8355",
         "0.3545",
         "0.2135",
         "0.245"
        ]
       ],
       "shape": {
        "columns": 7,
        "rows": 4148
       }
      },
      "text/html": [
       "<div>\n",
       "<style scoped>\n",
       "    .dataframe tbody tr th:only-of-type {\n",
       "        vertical-align: middle;\n",
       "    }\n",
       "\n",
       "    .dataframe tbody tr th {\n",
       "        vertical-align: top;\n",
       "    }\n",
       "\n",
       "    .dataframe thead th {\n",
       "        text-align: right;\n",
       "    }\n",
       "</style>\n",
       "<table border=\"1\" class=\"dataframe\">\n",
       "  <thead>\n",
       "    <tr style=\"text-align: left;\">\n",
       "      <th></th>\n",
       "      <th>Length</th>\n",
       "      <th>Diameter</th>\n",
       "      <th>Height</th>\n",
       "      <th>Whole weight</th>\n",
       "      <th>Shucked weight</th>\n",
       "      <th>Viscera weight</th>\n",
       "      <th>Shell weight</th>\n",
       "    </tr>\n",
       "  </thead>\n",
       "  <tbody>\n",
       "    <tr>\n",
       "      <th>0</th>\n",
       "      <td>0.455000</td>\n",
       "      <td>0.365000</td>\n",
       "      <td>0.095000</td>\n",
       "      <td>0.514000</td>\n",
       "      <td>0.224500</td>\n",
       "      <td>0.101000</td>\n",
       "      <td>0.150000</td>\n",
       "    </tr>\n",
       "    <tr>\n",
       "      <th>1</th>\n",
       "      <td>0.350000</td>\n",
       "      <td>0.265000</td>\n",
       "      <td>0.090000</td>\n",
       "      <td>0.225500</td>\n",
       "      <td>0.099500</td>\n",
       "      <td>0.048500</td>\n",
       "      <td>0.070000</td>\n",
       "    </tr>\n",
       "    <tr>\n",
       "      <th>2</th>\n",
       "      <td>0.530000</td>\n",
       "      <td>0.420000</td>\n",
       "      <td>0.135000</td>\n",
       "      <td>0.677000</td>\n",
       "      <td>0.256500</td>\n",
       "      <td>0.141500</td>\n",
       "      <td>0.210000</td>\n",
       "    </tr>\n",
       "    <tr>\n",
       "      <th>3</th>\n",
       "      <td>0.440000</td>\n",
       "      <td>0.365000</td>\n",
       "      <td>0.125000</td>\n",
       "      <td>0.802000</td>\n",
       "      <td>0.215500</td>\n",
       "      <td>0.114000</td>\n",
       "      <td>0.155000</td>\n",
       "    </tr>\n",
       "    <tr>\n",
       "      <th>4</th>\n",
       "      <td>0.330000</td>\n",
       "      <td>0.255000</td>\n",
       "      <td>0.080000</td>\n",
       "      <td>0.205000</td>\n",
       "      <td>0.089500</td>\n",
       "      <td>0.039500</td>\n",
       "      <td>0.055000</td>\n",
       "    </tr>\n",
       "    <tr>\n",
       "      <th>...</th>\n",
       "      <td>...</td>\n",
       "      <td>...</td>\n",
       "      <td>...</td>\n",
       "      <td>...</td>\n",
       "      <td>...</td>\n",
       "      <td>...</td>\n",
       "      <td>...</td>\n",
       "    </tr>\n",
       "    <tr>\n",
       "      <th>4143</th>\n",
       "      <td>0.565000</td>\n",
       "      <td>0.450000</td>\n",
       "      <td>0.165000</td>\n",
       "      <td>0.887000</td>\n",
       "      <td>0.370000</td>\n",
       "      <td>0.239000</td>\n",
       "      <td>0.249000</td>\n",
       "    </tr>\n",
       "    <tr>\n",
       "      <th>4144</th>\n",
       "      <td>0.590000</td>\n",
       "      <td>0.440000</td>\n",
       "      <td>0.135000</td>\n",
       "      <td>0.966000</td>\n",
       "      <td>0.439000</td>\n",
       "      <td>0.214500</td>\n",
       "      <td>0.260500</td>\n",
       "    </tr>\n",
       "    <tr>\n",
       "      <th>4145</th>\n",
       "      <td>0.600000</td>\n",
       "      <td>0.475000</td>\n",
       "      <td>0.205000</td>\n",
       "      <td>1.176000</td>\n",
       "      <td>0.525500</td>\n",
       "      <td>0.287500</td>\n",
       "      <td>0.308000</td>\n",
       "    </tr>\n",
       "    <tr>\n",
       "      <th>4146</th>\n",
       "      <td>0.625000</td>\n",
       "      <td>0.485000</td>\n",
       "      <td>0.150000</td>\n",
       "      <td>1.094500</td>\n",
       "      <td>0.531000</td>\n",
       "      <td>0.261000</td>\n",
       "      <td>0.296000</td>\n",
       "    </tr>\n",
       "    <tr>\n",
       "      <th>4147</th>\n",
       "      <td>0.710000</td>\n",
       "      <td>0.555000</td>\n",
       "      <td>0.195000</td>\n",
       "      <td>1.948500</td>\n",
       "      <td>0.945500</td>\n",
       "      <td>0.376500</td>\n",
       "      <td>0.495000</td>\n",
       "    </tr>\n",
       "  </tbody>\n",
       "</table>\n",
       "<p>4148 rows × 7 columns</p>\n",
       "</div>"
      ],
      "text/plain": [
       "      Length   Diameter  Height   Whole weight  Shucked weight  Viscera weight  Shell weight\n",
       "0    0.455000 0.365000  0.095000 0.514000      0.224500        0.101000        0.150000     \n",
       "1    0.350000 0.265000  0.090000 0.225500      0.099500        0.048500        0.070000     \n",
       "2    0.530000 0.420000  0.135000 0.677000      0.256500        0.141500        0.210000     \n",
       "3    0.440000 0.365000  0.125000 0.802000      0.215500        0.114000        0.155000     \n",
       "4    0.330000 0.255000  0.080000 0.205000      0.089500        0.039500        0.055000     \n",
       "...       ...       ...      ...           ...             ...             ...           ...\n",
       "4143 0.565000 0.450000  0.165000 0.887000      0.370000        0.239000        0.249000     \n",
       "4144 0.590000 0.440000  0.135000 0.966000      0.439000        0.214500        0.260500     \n",
       "4145 0.600000 0.475000  0.205000 1.176000      0.525500        0.287500        0.308000     \n",
       "4146 0.625000 0.485000  0.150000 1.094500      0.531000        0.261000        0.296000     \n",
       "4147 0.710000 0.555000  0.195000 1.948500      0.945500        0.376500        0.495000     \n",
       "\n",
       "[4148 rows x 7 columns]"
      ]
     },
     "execution_count": 54,
     "metadata": {},
     "output_type": "execute_result"
    }
   ],
   "source": [
    "X_num"
   ]
  },
  {
   "cell_type": "code",
   "execution_count": 55,
   "id": "b98e43e8",
   "metadata": {},
   "outputs": [
    {
     "data": {
      "text/plain": [
       "0      16.500000\n",
       "1       8.500000\n",
       "2      10.500000\n",
       "3      11.500000\n",
       "4       8.500000\n",
       "          ...   \n",
       "4143   12.500000\n",
       "4144   11.500000\n",
       "4145   10.500000\n",
       "4146   11.500000\n",
       "4147   13.500000\n",
       "Name: Age, Length: 4148, dtype: float64"
      ]
     },
     "execution_count": 55,
     "metadata": {},
     "output_type": "execute_result"
    }
   ],
   "source": [
    "y"
   ]
  },
  {
   "cell_type": "markdown",
   "id": "d8f206e8",
   "metadata": {},
   "source": [
    "1. Построение моделей на числовых признаках (минимум - NB и kNN, максимум - любые) с параметрами по умолчанию, вычисление метрик + комментарий о качестве моделей"
   ]
  },
  {
   "cell_type": "markdown",
   "id": "9dd6a8b2",
   "metadata": {},
   "source": [
    "Модели: простая линейная регрессия + с регуляризацией (Ridge), Байесовская линейная регрессия (Naive Bayes), kNN, случайный лес и классический градиентный бустинг"
   ]
  },
  {
   "cell_type": "code",
   "execution_count": 56,
   "id": "62abf587",
   "metadata": {},
   "outputs": [],
   "source": [
    "from sklearn.linear_model import LinearRegression, Ridge, BayesianRidge\n",
    "from sklearn.ensemble import RandomForestRegressor\n",
    "from sklearn.neighbors import KNeighborsRegressor\n",
    "from xgboost import XGBRegressor\n",
    "from lightgbm import LGBMRegressor\n",
    "from catboost import CatBoostRegressor\n",
    "from sklearn.compose import ColumnTransformer\n",
    "from sklearn.pipeline import Pipeline\n",
    "from sklearn.impute import SimpleImputer\n",
    "from sklearn.preprocessing import StandardScaler, OneHotEncoder"
   ]
  },
  {
   "cell_type": "code",
   "execution_count": 57,
   "id": "95c355d1",
   "metadata": {},
   "outputs": [],
   "source": [
    "from sklearn.model_selection import train_test_split\n",
    "# 4. Разделяем выборку (только числовые)\n",
    "X_train_num, X_test_num, y_train, y_test = train_test_split(X_num, y, test_size=0.25, random_state=42)"
   ]
  },
  {
   "cell_type": "code",
   "execution_count": 58,
   "id": "995013b5",
   "metadata": {},
   "outputs": [],
   "source": [
    "# Препроцессор: заполнение медианой (т.к. в EDA обнаружили выбросы и медиана наиболее устойчива) + нормализация\n",
    "# 5. Препроцессор ТОЛЬКО для числовых признаков\n",
    "preprocessor_num = ColumnTransformer(\n",
    "    transformers=[\n",
    "        ('num', Pipeline([\n",
    "            ('imputer', SimpleImputer(strategy='median')),\n",
    "            ('scaler', StandardScaler())\n",
    "        ]), numeric_features)\n",
    "    ])\n"
   ]
  },
  {
   "cell_type": "code",
   "execution_count": 59,
   "id": "e2e399b4",
   "metadata": {},
   "outputs": [],
   "source": [
    "from sklearn.metrics import mean_absolute_error, mean_squared_error, r2_score\n",
    "# 6. Метрики\n",
    "def evaluate_model(y_true, y_pred, name):\n",
    "    mae = mean_absolute_error(y_true, y_pred)\n",
    "    rmse = np.sqrt(mean_squared_error(y_true, y_pred))\n",
    "    r2 = r2_score(y_true, y_pred)\n",
    "    print(f\"Модель: {name}\")\n",
    "    print(f\"MAE: {mae:.4f}, RMSE: {rmse:.4f}, R²: {r2:.4f}\\n\")\n",
    "    return {\"MAE\": mae, \"RMSE\": rmse, \"R²\": r2}"
   ]
  },
  {
   "cell_type": "code",
   "execution_count": 60,
   "id": "d77b7bad",
   "metadata": {},
   "outputs": [],
   "source": [
    "# 7. Модели (только числовые)\n",
    "models_num = {\n",
    "    'Linear': LinearRegression(),\n",
    "    'Ridge': Ridge(),\n",
    "    'BayesianRidge': BayesianRidge(),\n",
    "    'kNN': KNeighborsRegressor(),\n",
    "    'RandomForest': RandomForestRegressor(random_state=42),\n",
    "    'XGB': XGBRegressor(random_state=42)\n",
    "}"
   ]
  },
  {
   "cell_type": "code",
   "execution_count": 61,
   "id": "f6efdf84",
   "metadata": {},
   "outputs": [
    {
     "name": "stdout",
     "output_type": "stream",
     "text": [
      "Модель: Linear\n",
      "MAE: 1.6077, RMSE: 2.2608, R²: 0.5080\n",
      "\n",
      "Модель: Ridge\n",
      "MAE: 1.6077, RMSE: 2.2609, R²: 0.5080\n",
      "\n",
      "Модель: BayesianRidge\n",
      "MAE: 1.6078, RMSE: 2.2611, R²: 0.5079\n",
      "\n",
      "Модель: kNN\n",
      "MAE: 1.6170, RMSE: 2.3279, R²: 0.4784\n",
      "\n",
      "Модель: RandomForest\n",
      "MAE: 1.5462, RMSE: 2.2125, R²: 0.5288\n",
      "\n",
      "Модель: XGB\n",
      "MAE: 1.6649, RMSE: 2.3672, R²: 0.4607\n",
      "\n"
     ]
    }
   ],
   "source": [
    "# 8. Обучение моделей только на числовых признаках\n",
    "results_num = {}\n",
    "\n",
    "for name, model in models_num.items():\n",
    "    pipe = Pipeline(steps=[('preprocessor', preprocessor_num), ('model', model)])\n",
    "    pipe.fit(X_train_num, y_train)\n",
    "    y_pred = pipe.predict(X_test_num)\n",
    "    metrics = evaluate_model(y_test, y_pred, name)\n",
    "    results_num[name] = metrics"
   ]
  },
  {
   "cell_type": "code",
   "execution_count": 62,
   "id": "f3df3830",
   "metadata": {},
   "outputs": [
    {
     "name": "stdout",
     "output_type": "stream",
     "text": [
      "\n",
      "Результаты на числовых признаках:\n",
      "  Model           MAE      RMSE     R²     \n",
      "0         Linear 1.607715 2.260806 0.508048\n",
      "1          Ridge 1.607725 2.260914 0.508001\n",
      "2  BayesianRidge 1.607756 2.261080 0.507928\n",
      "3            kNN 1.616972 2.327944 0.478395\n",
      "4   RandomForest 1.546152 2.212490 0.528850\n",
      "5            XGB 1.664866 2.367185 0.460662\n"
     ]
    }
   ],
   "source": [
    "# 9. Переводим в датафрейм\n",
    "df_results_num = pd.DataFrame(results_num).T\n",
    "df_results_num.index.name = 'Model'\n",
    "df_results_num.reset_index(inplace=True)\n",
    "\n",
    "print(\"\\nРезультаты на числовых признаках:\")\n",
    "print(df_results_num)"
   ]
  },
  {
   "cell_type": "code",
   "execution_count": 63,
   "id": "b47c29b8",
   "metadata": {},
   "outputs": [
    {
     "data": {
      "image/png": "[encoded data removed]",
      "text/plain": [
       "<Figure size 1800x600 with 3 Axes>"
      ]
     },
     "metadata": {},
     "output_type": "display_data"
    }
   ],
   "source": [
    "# 10. Визуализация метрик (только числа)\n",
    "import matplotlib.pyplot as plt\n",
    "import seaborn as sns\n",
    "\n",
    "# Цветовая палитра\n",
    "palette = sns.color_palette(\"husl\", len(df_results_num))\n",
    "\n",
    "# Настройки графика\n",
    "fig, axes = plt.subplots(1, 3, figsize=(18, 6), sharex=True)\n",
    "fig.suptitle('Сравнение моделей (только числовые признаки)', fontsize=16)\n",
    "\n",
    "# R²\n",
    "sns.barplot(ax=axes[0], x='Model', y='R²', data=df_results_num, hue='Model', palette=palette, legend=False)\n",
    "axes[0].set_title('R² Score')\n",
    "axes[0].tick_params(axis='x', rotation=45)\n",
    "\n",
    "# MAE\n",
    "sns.barplot(ax=axes[1], x='Model', y='MAE', data=df_results_num, hue='Model', palette=palette, legend=False)\n",
    "axes[1].set_title('MAE (Mean Absolute Error)')\n",
    "axes[1].tick_params(axis='x', rotation=45)\n",
    "\n",
    "# RMSE\n",
    "sns.barplot(ax=axes[2], x='Model', y='RMSE', data=df_results_num, hue='Model', palette=palette, legend=False)\n",
    "axes[2].set_title('RMSE (Root Mean Squared Error)')\n",
    "axes[2].tick_params(axis='x', rotation=45)\n",
    "\n",
    "plt.tight_layout()\n",
    "plt.show()"
   ]
  },
  {
   "cell_type": "markdown",
   "id": "a78b2bef",
   "metadata": {},
   "source": [
    "Мы видим (Чем меньше MAE и RMSE — тем лучше. Чем больше R² — тем лучше):\n",
    "\n",
    "- Random Forest показывает лучший R² и самый низкий MAE и RMSE\n",
    "- XGB отстаёт — нужен подбор гиперпараметров\n",
    "- Linear, Ridge, BayesianRidge почти одинаковы, т.к. разные версии линейной регрессии\n",
    "- kNN показывает средний результат\n",
    "\n",
    "Лучшая модель на данном этапе — Random Forest, она даёт минимальную ошибку и максимальный коэффициент детерминации."
   ]
  },
  {
   "cell_type": "code",
   "execution_count": 64,
   "id": "14fc5d93",
   "metadata": {},
   "outputs": [],
   "source": [
    "# 11. Подбор гиперпараметров (GridSearchCV) - только числа\n",
    "from sklearn.model_selection import GridSearchCV\n",
    "\n",
    "param_grids_num = {\n",
    "    'Linear': {}, # LinearRegression не имеет значимых гиперпараметров для подбора - используем как бейзлайн\n",
    "    'Ridge': {'model__alpha': [0.1, 1.0, 10.0]},\n",
    "    'BayesianRidge': {\n",
    "        'model__alpha_1': [1e-6, 1e-5],\n",
    "        'model__alpha_2': [1e-6, 1e-5]\n",
    "    },\n",
    "    'kNN': {\n",
    "        'model__n_neighbors': [3, 5, 7, 9],\n",
    "        'model__weights': ['uniform', 'distance'],\n",
    "        'model__p': [1, 2]\n",
    "    },\n",
    "    'RandomForest': {\n",
    "        'model__n_estimators': [50, 100],\n",
    "        'model__max_depth': [None, 10, 20],\n",
    "        'model__min_samples_split': [2, 5]\n",
    "    },\n",
    "    'XGB': {\n",
    "        'model__n_estimators': [50, 100],\n",
    "        'model__learning_rate': [0.01, 0.1],\n",
    "        'model__max_depth': [3, 5]\n",
    "    }\n",
    "}"
   ]
  },
  {
   "cell_type": "code",
   "execution_count": 65,
   "id": "cb06379e",
   "metadata": {},
   "outputs": [
    {
     "name": "stdout",
     "output_type": "stream",
     "text": [
      "==================================================\n",
      "Обучение модели: Linear (только числа)\n",
      "Модель: Linear (по умолчанию)\n",
      "MAE: 1.6077, RMSE: 2.2608, R²: 0.5080\n",
      "\n",
      "==================================================\n",
      "Обучение модели: Ridge (только числа)\n",
      "Модель: Ridge (подобранные параметры)\n",
      "MAE: 1.6082, RMSE: 2.2624, R²: 0.5074\n",
      "\n",
      "==================================================\n",
      "Обучение модели: BayesianRidge (только числа)\n",
      "Модель: BayesianRidge (подобранные параметры)\n",
      "MAE: 1.6078, RMSE: 2.2611, R²: 0.5079\n",
      "\n",
      "==================================================\n",
      "Обучение модели: kNN (только числа)\n",
      "Модель: kNN (подобранные параметры)\n",
      "MAE: 1.5674, RMSE: 2.2696, R²: 0.5042\n",
      "\n",
      "==================================================\n",
      "Обучение модели: RandomForest (только числа)\n",
      "Модель: RandomForest (подобранные параметры)\n",
      "MAE: 1.5148, RMSE: 2.1862, R²: 0.5400\n",
      "\n",
      "==================================================\n",
      "Обучение модели: XGB (только числа)\n",
      "Модель: XGB (подобранные параметры)\n",
      "MAE: 1.5106, RMSE: 2.1870, R²: 0.5396\n",
      "\n"
     ]
    }
   ],
   "source": [
    "best_metrics_num = {} # Словарь для хранения лучших метрик\n",
    "\n",
    "for name, model in models_num.items():\n",
    "    print(f\"{'='*50}\\nОбучение модели: {name} (только числа)\")\n",
    "    \n",
    "    pipe = Pipeline(steps=[('preprocessor', preprocessor_num), ('model', model)])\n",
    "    # Если у модели есть параметры для подбора\n",
    "    if name in param_grids_num and len(param_grids_num[name]) > 0:\n",
    "        gs = GridSearchCV(pipe, param_grids_num[name], scoring='r2', cv=5, n_jobs=-1)\n",
    "        gs.fit(X_train_num, y_train)\n",
    "        \n",
    "        best_model = gs.best_estimator_\n",
    "        y_pred = best_model.predict(X_test_num)\n",
    "        metrics = evaluate_model(y_test, y_pred, f\"{name} (подобранные параметры)\")\n",
    "        best_metrics_num[name] = metrics\n",
    "    # Просто обучаем без подбора    \n",
    "    else:\n",
    "        pipe.fit(X_train_num, y_train)\n",
    "        y_pred = pipe.predict(X_test_num)\n",
    "        metrics = evaluate_model(y_test, y_pred, f\"{name} (по умолчанию)\")\n",
    "        best_metrics_num[name] = metrics"
   ]
  },
  {
   "cell_type": "code",
   "execution_count": 66,
   "id": "5b683b59",
   "metadata": {},
   "outputs": [
    {
     "name": "stdout",
     "output_type": "stream",
     "text": [
      "\n",
      "Лучшие результаты (только числа):\n",
      "  Model           MAE      RMSE     R²     \n",
      "0         Linear 1.607715 2.260806 0.508048\n",
      "1          Ridge 1.608167 2.262377 0.507364\n",
      "2  BayesianRidge 1.607756 2.261080 0.507928\n",
      "3            kNN 1.567449 2.269646 0.504193\n",
      "4   RandomForest 1.514816 2.186174 0.539992\n",
      "5            XGB 1.510590 2.187035 0.539629\n"
     ]
    }
   ],
   "source": [
    "# 12. Результаты после подбора (только числа)\n",
    "df_best_results_num = pd.DataFrame(best_metrics_num).T\n",
    "df_best_results_num.index.name = 'Model'\n",
    "df_best_results_num.reset_index(inplace=True)\n",
    "\n",
    "print(\"\\nЛучшие результаты (только числа):\")\n",
    "print(df_best_results_num)"
   ]
  },
  {
   "cell_type": "code",
   "execution_count": 67,
   "id": "68a46a2a",
   "metadata": {},
   "outputs": [
    {
     "data": {
      "image/png": "[encoded data removed]",
      "text/plain": [
       "<Figure size 1800x600 with 3 Axes>"
      ]
     },
     "metadata": {},
     "output_type": "display_data"
    }
   ],
   "source": [
    "# Визуализация метрик после подбора (только числа)\n",
    "\n",
    "palette = sns.color_palette(\"husl\", len(df_best_results_num))\n",
    "\n",
    "fig, axes = plt.subplots(1, 3, figsize=(18, 6), sharex=True)\n",
    "fig.suptitle('Сравнение моделей после подбора гиперпараметров', fontsize=16)\n",
    "\n",
    "sns.barplot(ax=axes[0], x='Model', y='R²', data=df_best_results_num, hue='Model', palette=palette, legend=False)\n",
    "axes[0].set_title('R² Score')\n",
    "axes[0].tick_params(axis='x', rotation=45)\n",
    "\n",
    "sns.barplot(ax=axes[1], x='Model', y='MAE', data=df_best_results_num, hue='Model', palette=palette, legend=False)\n",
    "axes[1].set_title('MAE (Mean Absolute Error)')\n",
    "axes[1].tick_params(axis='x', rotation=45)\n",
    "\n",
    "sns.barplot(ax=axes[2], x='Model', y='RMSE', data=df_best_results_num, hue='Model', palette=palette, legend=False)\n",
    "axes[2].set_title('RMSE (Root Mean Squared Error)')\n",
    "axes[2].tick_params(axis='x', rotation=45)\n",
    "\n",
    "plt.tight_layout()\n",
    "plt.show()"
   ]
  },
  {
   "cell_type": "markdown",
   "id": "30a391a9",
   "metadata": {},
   "source": [
    "Сводная таблица \"до\" и \"после\""
   ]
  },
  {
   "cell_type": "code",
   "execution_count": 68,
   "id": "f3b7bbb9",
   "metadata": {},
   "outputs": [],
   "source": [
    "# Отключаем экспоненциальную запись\n",
    "pd.set_option('display.float_format', '{:.6f}'.format)\n",
    "\n",
    "# Чтобы таблица не переносилась и показывалась целиком\n",
    "pd.set_option('display.width', 1000)           # ширина окна\n",
    "pd.set_option('display.max_columns', None)     # показывать все колонки\n",
    "pd.set_option('display.colheader_justify', 'left')  # заголовки слева"
   ]
  },
  {
   "cell_type": "code",
   "execution_count": 69,
   "id": "5a3f3e0a",
   "metadata": {},
   "outputs": [
    {
     "name": "stdout",
     "output_type": "stream",
     "text": [
      "\n",
      "Сводная таблица: до и после подбора гиперпараметров\n",
      "  Model           MAE_before  MAE_after  MAE_diff  RMSE_before  RMSE_after  RMSE_diff  R²_before  R²_after  R²_diff   R²_%     \n",
      "0         Linear 1.607715    1.607715    0.000000 2.260806     2.260806     0.000000  0.508048   0.508048   0.000000 100.000000\n",
      "1          Ridge 1.607725    1.608167   -0.000442 2.260914     2.262377    -0.001463  0.508001   0.507364  -0.000637  99.874652\n",
      "2  BayesianRidge 1.607756    1.607756   -0.000000 2.261080     2.261080    -0.000000  0.507928   0.507928  -0.000000 100.000000\n",
      "3            kNN 1.616972    1.567449    0.049523 2.327944     2.269646     0.058299  0.478395   0.504193   0.025798 105.392614\n",
      "4   RandomForest 1.546152    1.514816    0.031336 2.212490     2.186174     0.026317  0.528850   0.539992   0.011142 102.106771\n",
      "5            XGB 1.664866    1.510590    0.154276 2.367185     2.187035     0.180149  0.460662   0.539629   0.078966 117.141942\n"
     ]
    }
   ],
   "source": [
    "# Добавляем префикс к колонкам\n",
    "df_before = df_results_num.copy()\n",
    "df_before.columns = ['Model', 'MAE_before', 'RMSE_before', 'R²_before']\n",
    "\n",
    "df_after = df_best_results_num.copy()\n",
    "df_after.columns = ['Model', 'MAE_after', 'RMSE_after', 'R²_after']\n",
    "\n",
    "# Объединяем\n",
    "df_comparison = pd.merge(df_before, df_after, on='Model')\n",
    "\n",
    "# Вычисляем разницу\n",
    "df_comparison['MAE_diff'] = df_comparison['MAE_before'] - df_comparison['MAE_after']\n",
    "df_comparison['RMSE_diff'] = df_comparison['RMSE_before'] - df_comparison['RMSE_after']\n",
    "df_comparison['R²_diff'] = df_comparison['R²_after'] - df_comparison['R²_before']\n",
    "df_comparison['R²_%'] = df_comparison['R²_after'] * 100 / df_comparison['R²_before']\n",
    "\n",
    "print(\"\\nСводная таблица: до и после подбора гиперпараметров\")\n",
    "print(df_comparison[['Model', 'MAE_before', 'MAE_after', 'MAE_diff',\n",
    "                     'RMSE_before', 'RMSE_after', 'RMSE_diff',\n",
    "                     'R²_before', 'R²_after', 'R²_diff', 'R²_%']])"
   ]
  },
  {
   "cell_type": "markdown",
   "id": "95bb5b99",
   "metadata": {},
   "source": [
    "После подбора гиперпараметров:\n",
    "\n",
    "- XGBoost показал наибольшее улучшение (+14% по R²), что говорит о его потенциале\n",
    "- kNN стал точнее (+7% по R²) за счёт оптимальных соседей\n",
    "- Random Forest также улучшился, но незначительно (+1.5% по R²)\n",
    "- Линейные модели остались на том же уровне"
   ]
  },
  {
   "cell_type": "markdown",
   "id": "051c79bc",
   "metadata": {},
   "source": [
    "Подключаем Optuna для поиска гиперпараметров"
   ]
  },
  {
   "cell_type": "code",
   "execution_count": 70,
   "id": "1d54fa00",
   "metadata": {},
   "outputs": [
    {
     "name": "stderr",
     "output_type": "stream",
     "text": [
      "[I 2025-05-07 22:42:59,824] A new study created in memory with name: no-name-24c4aae5-f323-45fb-b287-755b13beb848\n",
      "[I 2025-05-07 22:43:00,332] Trial 0 finished with value: 1.5965051493006044 and parameters: {'n_estimators': 88, 'max_depth': 9, 'learning_rate': 0.06811672977920794, 'subsample': 0.8289260728949436, 'colsample_bytree': 0.7431092232571964}. Best is trial 0 with value: 1.5965051493006044.\n",
      "[I 2025-05-07 22:43:00,514] Trial 1 finished with value: 1.62341504314813 and parameters: {'n_estimators': 162, 'max_depth': 6, 'learning_rate': 0.12044754644804959, 'subsample': 0.7574297319309832, 'colsample_bytree': 0.6024185833282742}. Best is trial 0 with value: 1.5965051493006044.\n",
      "[I 2025-05-07 22:43:00,833] Trial 2 finished with value: 1.6131949333559032 and parameters: {'n_estimators': 68, 'max_depth': 9, 'learning_rate': 0.10240864037934438, 'subsample': 0.6226380973987037, 'colsample_bytree': 0.9347342822829191}. Best is trial 0 with value: 1.5965051493006044.\n",
      "[I 2025-05-07 22:43:00,922] Trial 3 finished with value: 1.6549426658050428 and parameters: {'n_estimators': 78, 'max_depth': 6, 'learning_rate': 0.2803035405573661, 'subsample': 0.8442137581543189, 'colsample_bytree': 0.6595761687593323}. Best is trial 0 with value: 1.5965051493006044.\n",
      "[I 2025-05-07 22:43:01,894] Trial 4 finished with value: 1.7408214680454623 and parameters: {'n_estimators': 162, 'max_depth': 10, 'learning_rate': 0.21491902279768757, 'subsample': 0.6613068025478502, 'colsample_bytree': 0.755081304087873}. Best is trial 0 with value: 1.5965051493006044.\n",
      "[I 2025-05-07 22:43:02,036] Trial 5 finished with value: 1.5891346434835925 and parameters: {'n_estimators': 69, 'max_depth': 7, 'learning_rate': 0.034050071842765886, 'subsample': 0.8768185737290215, 'colsample_bytree': 0.6581464804945526}. Best is trial 5 with value: 1.5891346434835925.\n",
      "[I 2025-05-07 22:43:02,897] Trial 6 finished with value: 1.6971840615196303 and parameters: {'n_estimators': 170, 'max_depth': 10, 'learning_rate': 0.254502778502683, 'subsample': 0.9428557793744029, 'colsample_bytree': 0.9639917455511764}. Best is trial 5 with value: 1.5891346434835925.\n",
      "[I 2025-05-07 22:43:03,267] Trial 7 finished with value: 1.7276057684343957 and parameters: {'n_estimators': 60, 'max_depth': 10, 'learning_rate': 0.25812191090026754, 'subsample': 0.7574474457821156, 'colsample_bytree': 0.6497932954599975}. Best is trial 5 with value: 1.5891346434835925.\n",
      "[I 2025-05-07 22:43:03,460] Trial 8 finished with value: 1.5950857556754128 and parameters: {'n_estimators': 64, 'max_depth': 8, 'learning_rate': 0.08193194835268391, 'subsample': 0.6842837861400147, 'colsample_bytree': 0.6859327639493538}. Best is trial 5 with value: 1.5891346434835925.\n",
      "[I 2025-05-07 22:43:03,582] Trial 9 finished with value: 1.726292793913919 and parameters: {'n_estimators': 75, 'max_depth': 7, 'learning_rate': 0.28044649866209115, 'subsample': 0.7328703466475648, 'colsample_bytree': 0.7418805224421173}. Best is trial 5 with value: 1.5891346434835925.\n",
      "[I 2025-05-07 22:43:03,664] Trial 10 finished with value: 1.681446763813312 and parameters: {'n_estimators': 119, 'max_depth': 3, 'learning_rate': 0.01883427865631871, 'subsample': 0.9991956740204349, 'colsample_bytree': 0.8690354591887413}. Best is trial 5 with value: 1.5891346434835925.\n",
      "[I 2025-05-07 22:43:03,850] Trial 11 finished with value: 1.6331434460871719 and parameters: {'n_estimators': 109, 'max_depth': 7, 'learning_rate': 0.015080893592047909, 'subsample': 0.8864045107476564, 'colsample_bytree': 0.6796631002414542}. Best is trial 5 with value: 1.5891346434835925.\n",
      "[I 2025-05-07 22:43:04,045] Trial 12 finished with value: 1.5736451786875538 and parameters: {'n_estimators': 51, 'max_depth': 8, 'learning_rate': 0.05810871193787198, 'subsample': 0.6855784611723619, 'colsample_bytree': 0.8080510933224614}. Best is trial 12 with value: 1.5736451786875538.\n",
      "[I 2025-05-07 22:43:04,137] Trial 13 finished with value: 1.6038290726496984 and parameters: {'n_estimators': 98, 'max_depth': 5, 'learning_rate': 0.16596758381634055, 'subsample': 0.898463089647322, 'colsample_bytree': 0.8366234438734413}. Best is trial 12 with value: 1.5736451786875538.\n",
      "[I 2025-05-07 22:43:04,207] Trial 14 finished with value: 1.6105758164382842 and parameters: {'n_estimators': 53, 'max_depth': 4, 'learning_rate': 0.05295697894309864, 'subsample': 0.8105450356571706, 'colsample_bytree': 0.8027963033755589}. Best is trial 12 with value: 1.5736451786875538.\n",
      "[I 2025-05-07 22:43:04,557] Trial 15 finished with value: 1.6623230396741762 and parameters: {'n_estimators': 146, 'max_depth': 8, 'learning_rate': 0.14768523420324847, 'subsample': 0.7042055986545529, 'colsample_bytree': 0.9042254304040074}. Best is trial 12 with value: 1.5736451786875538.\n",
      "[I 2025-05-07 22:43:04,898] Trial 16 finished with value: 1.5802943214153409 and parameters: {'n_estimators': 135, 'max_depth': 8, 'learning_rate': 0.049003274673280375, 'subsample': 0.6115535449207753, 'colsample_bytree': 0.7973046248691888}. Best is trial 12 with value: 1.5736451786875538.\n",
      "[I 2025-05-07 22:43:05,330] Trial 17 finished with value: 1.732270826898913 and parameters: {'n_estimators': 200, 'max_depth': 8, 'learning_rate': 0.17918210280433422, 'subsample': 0.6136308345356961, 'colsample_bytree': 0.7979567254147382}. Best is trial 12 with value: 1.5736451786875538.\n",
      "[I 2025-05-07 22:43:05,856] Trial 18 finished with value: 1.668660509186105 and parameters: {'n_estimators': 137, 'max_depth': 9, 'learning_rate': 0.11845989491547804, 'subsample': 0.6373733997427605, 'colsample_bytree': 0.9980546194454701}. Best is trial 12 with value: 1.5736451786875538.\n",
      "[I 2025-05-07 22:43:05,975] Trial 19 finished with value: 1.5687942686326692 and parameters: {'n_estimators': 132, 'max_depth': 5, 'learning_rate': 0.05751358214385189, 'subsample': 0.6764351507770604, 'colsample_bytree': 0.8619995226189806}. Best is trial 19 with value: 1.5687942686326692.\n",
      "[I 2025-05-07 22:43:06,088] Trial 20 finished with value: 1.5817991523290629 and parameters: {'n_estimators': 118, 'max_depth': 5, 'learning_rate': 0.08489981395372478, 'subsample': 0.7119425372412123, 'colsample_bytree': 0.873113311421094}. Best is trial 19 with value: 1.5687942686326692.\n",
      "[I 2025-05-07 22:43:06,223] Trial 21 finished with value: 1.5618447797100674 and parameters: {'n_estimators': 137, 'max_depth': 5, 'learning_rate': 0.043989567020125145, 'subsample': 0.6561236407296132, 'colsample_bytree': 0.7965989196313046}. Best is trial 21 with value: 1.5618447797100674.\n",
      "[I 2025-05-07 22:43:06,337] Trial 22 finished with value: 1.5598352905691877 and parameters: {'n_estimators': 102, 'max_depth': 5, 'learning_rate': 0.04804109421441594, 'subsample': 0.6632192411780153, 'colsample_bytree': 0.8440230485577596}. Best is trial 22 with value: 1.5598352905691877.\n",
      "[I 2025-05-07 22:43:06,440] Trial 23 finished with value: 1.5889152994862354 and parameters: {'n_estimators': 106, 'max_depth': 4, 'learning_rate': 0.03269970544162941, 'subsample': 0.6588147673002903, 'colsample_bytree': 0.845811532346492}. Best is trial 22 with value: 1.5598352905691877.\n",
      "[I 2025-05-07 22:43:06,564] Trial 24 finished with value: 1.569347149452112 and parameters: {'n_estimators': 131, 'max_depth': 5, 'learning_rate': 0.09022535017102762, 'subsample': 0.7719957873925742, 'colsample_bytree': 0.9139485684542291}. Best is trial 22 with value: 1.5598352905691877.\n",
      "[I 2025-05-07 22:43:06,677] Trial 25 finished with value: 1.687334780873868 and parameters: {'n_estimators': 151, 'max_depth': 4, 'learning_rate': 0.010170224842409245, 'subsample': 0.6543383191291335, 'colsample_bytree': 0.7717856322937291}. Best is trial 22 with value: 1.5598352905691877.\n",
      "[I 2025-05-07 22:43:06,916] Trial 26 finished with value: 1.6306935527490516 and parameters: {'n_estimators': 185, 'max_depth': 6, 'learning_rate': 0.1261489297806053, 'subsample': 0.7324280959317861, 'colsample_bytree': 0.8407636701250982}. Best is trial 22 with value: 1.5598352905691877.\n",
      "[I 2025-05-07 22:43:06,998] Trial 27 finished with value: 1.6247202257754103 and parameters: {'n_estimators': 90, 'max_depth': 3, 'learning_rate': 0.036942915117303084, 'subsample': 0.682175480545026, 'colsample_bytree': 0.8839765564902423}. Best is trial 22 with value: 1.5598352905691877.\n",
      "[I 2025-05-07 22:43:07,112] Trial 28 finished with value: 1.5675049286681426 and parameters: {'n_estimators': 121, 'max_depth': 5, 'learning_rate': 0.07031329886786236, 'subsample': 0.6441429550913031, 'colsample_bytree': 0.8249643679668192}. Best is trial 22 with value: 1.5598352905691877.\n",
      "[I 2025-05-07 22:43:07,195] Trial 29 finished with value: 1.5687872599031534 and parameters: {'n_estimators': 105, 'max_depth': 4, 'learning_rate': 0.0719798699918707, 'subsample': 0.639453338911506, 'colsample_bytree': 0.7221162405861103}. Best is trial 22 with value: 1.5598352905691877.\n",
      "[I 2025-05-07 22:43:07,289] Trial 30 finished with value: 1.5855000731153228 and parameters: {'n_estimators': 88, 'max_depth': 5, 'learning_rate': 0.09598792834630254, 'subsample': 0.6051063523961178, 'colsample_bytree': 0.8178578962735041}. Best is trial 22 with value: 1.5598352905691877.\n",
      "[I 2025-05-07 22:43:07,373] Trial 31 finished with value: 1.5713728306271375 and parameters: {'n_estimators': 110, 'max_depth': 4, 'learning_rate': 0.06907056082524078, 'subsample': 0.6399078868285848, 'colsample_bytree': 0.7260880144429389}. Best is trial 22 with value: 1.5598352905691877.\n",
      "[I 2025-05-07 22:43:07,466] Trial 32 finished with value: 1.5710015924266822 and parameters: {'n_estimators': 124, 'max_depth': 4, 'learning_rate': 0.07222905962094767, 'subsample': 0.6380871521136652, 'colsample_bytree': 0.7748252710833928}. Best is trial 22 with value: 1.5598352905691877.\n",
      "[I 2025-05-07 22:43:07,538] Trial 33 finished with value: 1.5826541922506177 and parameters: {'n_estimators': 99, 'max_depth': 3, 'learning_rate': 0.10499441200893413, 'subsample': 0.7162265907994562, 'colsample_bytree': 0.7157175751785677}. Best is trial 22 with value: 1.5598352905691877.\n",
      "[I 2025-05-07 22:43:07,693] Trial 34 finished with value: 1.5586414410623213 and parameters: {'n_estimators': 143, 'max_depth': 6, 'learning_rate': 0.042003974300464, 'subsample': 0.6284359189848375, 'colsample_bytree': 0.7790020312030204}. Best is trial 34 with value: 1.5586414410623213.\n",
      "[I 2025-05-07 22:43:07,868] Trial 35 finished with value: 1.5586130339389332 and parameters: {'n_estimators': 146, 'max_depth': 6, 'learning_rate': 0.03680394687318886, 'subsample': 0.6017218325223498, 'colsample_bytree': 0.7709138264403496}. Best is trial 35 with value: 1.5586130339389332.\n",
      "[I 2025-05-07 22:43:08,045] Trial 36 finished with value: 1.56144860420648 and parameters: {'n_estimators': 151, 'max_depth': 6, 'learning_rate': 0.035459150535003, 'subsample': 0.6047233294499269, 'colsample_bytree': 0.7728524600467923}. Best is trial 35 with value: 1.5586130339389332.\n",
      "[I 2025-05-07 22:43:08,211] Trial 37 finished with value: 1.5553231810919002 and parameters: {'n_estimators': 157, 'max_depth': 6, 'learning_rate': 0.031269436800927995, 'subsample': 0.6119107287324727, 'colsample_bytree': 0.7711486792636831}. Best is trial 37 with value: 1.5553231810919002.\n",
      "[I 2025-05-07 22:43:08,388] Trial 38 finished with value: 1.5519225858086272 and parameters: {'n_estimators': 166, 'max_depth': 6, 'learning_rate': 0.02474702082386704, 'subsample': 0.6223786671674111, 'colsample_bytree': 0.7500153903926782}. Best is trial 38 with value: 1.5519225858086272.\n",
      "[I 2025-05-07 22:43:08,584] Trial 39 finished with value: 1.560190574506572 and parameters: {'n_estimators': 164, 'max_depth': 6, 'learning_rate': 0.02545495734142854, 'subsample': 0.6245032130895734, 'colsample_bytree': 0.6040320520394068}. Best is trial 38 with value: 1.5519225858086272.\n",
      "[I 2025-05-07 22:43:08,845] Trial 40 finished with value: 1.695079746049109 and parameters: {'n_estimators': 175, 'max_depth': 7, 'learning_rate': 0.21374093144594422, 'subsample': 0.842756853742971, 'colsample_bytree': 0.7513427077199499}. Best is trial 38 with value: 1.5519225858086272.\n",
      "[I 2025-05-07 22:43:09,000] Trial 41 finished with value: 1.5613558785267243 and parameters: {'n_estimators': 157, 'max_depth': 6, 'learning_rate': 0.026856311453378256, 'subsample': 0.6234451872190869, 'colsample_bytree': 0.697203121859039}. Best is trial 38 with value: 1.5519225858086272.\n",
      "[I 2025-05-07 22:43:09,216] Trial 42 finished with value: 1.5955172582630586 and parameters: {'n_estimators': 180, 'max_depth': 6, 'learning_rate': 0.010980607627118055, 'subsample': 0.673147404810271, 'colsample_bytree': 0.7629639598909829}. Best is trial 38 with value: 1.5519225858086272.\n",
      "[I 2025-05-07 22:43:09,433] Trial 43 finished with value: 1.567960272120416 and parameters: {'n_estimators': 144, 'max_depth': 7, 'learning_rate': 0.044673893974053774, 'subsample': 0.6041907254724806, 'colsample_bytree': 0.7405942296918084}. Best is trial 38 with value: 1.5519225858086272.\n",
      "[I 2025-05-07 22:43:09,631] Trial 44 finished with value: 1.5551972062097505 and parameters: {'n_estimators': 166, 'max_depth': 6, 'learning_rate': 0.02568328890126694, 'subsample': 0.6230200085759234, 'colsample_bytree': 0.7844576753660156}. Best is trial 38 with value: 1.5519225858086272.\n",
      "[I 2025-05-07 22:43:09,890] Trial 45 finished with value: 1.5609300329850186 and parameters: {'n_estimators': 167, 'max_depth': 7, 'learning_rate': 0.024050351904710256, 'subsample': 0.6289002104754163, 'colsample_bytree': 0.779538994837335}. Best is trial 38 with value: 1.5519225858086272.\n",
      "[I 2025-05-07 22:43:10,066] Trial 46 finished with value: 1.576393483902611 and parameters: {'n_estimators': 158, 'max_depth': 6, 'learning_rate': 0.05922296199548758, 'subsample': 0.6990765409262345, 'colsample_bytree': 0.7353272599224032}. Best is trial 38 with value: 1.5519225858086272.\n",
      "[I 2025-05-07 22:43:10,336] Trial 47 finished with value: 1.8141135076237043 and parameters: {'n_estimators': 188, 'max_depth': 7, 'learning_rate': 0.29686816978792635, 'subsample': 0.6203658618165852, 'colsample_bytree': 0.7028182477788478}. Best is trial 38 with value: 1.5519225858086272.\n",
      "[I 2025-05-07 22:43:10,541] Trial 48 finished with value: 1.565158101349301 and parameters: {'n_estimators': 173, 'max_depth': 6, 'learning_rate': 0.023321495959871458, 'subsample': 0.9708279865330366, 'colsample_bytree': 0.7797374364216778}. Best is trial 38 with value: 1.5519225858086272.\n",
      "[I 2025-05-07 22:43:10,800] Trial 49 finished with value: 1.5765623604605348 and parameters: {'n_estimators': 154, 'max_depth': 7, 'learning_rate': 0.04064481996752459, 'subsample': 0.7686902589167993, 'colsample_bytree': 0.757796533700307}. Best is trial 38 with value: 1.5519225858086272.\n"
     ]
    },
    {
     "name": "stdout",
     "output_type": "stream",
     "text": [
      "Лучшие параметры (Optuna): {'n_estimators': 166, 'max_depth': 6, 'learning_rate': 0.02474702082386704, 'subsample': 0.6223786671674111, 'colsample_bytree': 0.7500153903926782}\n",
      "Лучшая MAE: 1.5519225858086272\n"
     ]
    }
   ],
   "source": [
    "# 13. Optuna для XGBoost\n",
    "import optuna\n",
    "from sklearn.model_selection import cross_val_score\n",
    "\n",
    "def objective(trial):\n",
    "    params = {\n",
    "        'n_estimators': trial.suggest_int('n_estimators', 50, 200),\n",
    "        'max_depth': trial.suggest_int('max_depth', 3, 10),\n",
    "        'learning_rate': trial.suggest_float('learning_rate', 0.01, 0.3),\n",
    "        'subsample': trial.suggest_float('subsample', 0.6, 1.0),\n",
    "        'colsample_bytree': trial.suggest_float('colsample_bytree', 0.6, 1.0),\n",
    "        'random_state': 42\n",
    "    }\n",
    "\n",
    "    model = XGBRegressor(**params)\n",
    "    pipe = Pipeline(steps=[('preprocessor', preprocessor_num), ('model', model)])\n",
    "    score = -cross_val_score(pipe, X_train_num, y_train, scoring='neg_mean_absolute_error', cv=5, n_jobs=-1).mean()\n",
    "    return score\n",
    "\n",
    "study = optuna.create_study(direction='minimize')\n",
    "study.optimize(objective, n_trials=50)\n",
    "\n",
    "print(\"Лучшие параметры (Optuna):\", study.best_params)\n",
    "print(\"Лучшая MAE:\", study.best_value)"
   ]
  },
  {
   "cell_type": "code",
   "execution_count": 71,
   "id": "3bd39618",
   "metadata": {},
   "outputs": [
    {
     "name": "stdout",
     "output_type": "stream",
     "text": [
      "Модель: XGB (Optuna)\n",
      "MAE: 1.5059, RMSE: 2.1757, R²: 0.5444\n",
      "\n"
     ]
    },
    {
     "data": {
      "text/plain": [
       "{'MAE': 1.5058845977084272,\n",
       " 'RMSE': 2.175682026040103,\n",
       " 'R²': 0.5443962722543388}"
      ]
     },
     "execution_count": 71,
     "metadata": {},
     "output_type": "execute_result"
    }
   ],
   "source": [
    "best_xgb_optuna = Pipeline([\n",
    "    ('preprocessor', preprocessor_num),\n",
    "    ('model', XGBRegressor(**study.best_params, random_state=42))\n",
    "])\n",
    "best_xgb_optuna.fit(X_train_num, y_train)\n",
    "y_pred_optuna = best_xgb_optuna.predict(X_test_num)\n",
    "evaluate_model(y_test, y_pred_optuna, \"XGB (Optuna)\")"
   ]
  },
  {
   "cell_type": "markdown",
   "id": "4e25dea2",
   "metadata": {},
   "source": [
    "Похоже, что улучшить не удалось. Параметры по умолчанию хорошо работают \"из коробки\".\n",
    "| Model          | MAE_after | RMSE_after | R²_after  |\n",
    "|----------------|-----------|------------|-----------|\n",
    "| XGB            | 1.533410  | 2.173861   | 0.540634  |\n",
    "| XGB (Optuna)   | 1.5503    | 2.1735     | 0.5408    |"
   ]
  },
  {
   "cell_type": "markdown",
   "id": "6d366362",
   "metadata": {},
   "source": [
    "Теперь следующий шаг.\n",
    "- Добавление категориальных признаков\n",
    "- Выбор лучшей модели (XGB) + добавка CatBoost и LightGBM\n",
    "- Подбор гиперпараметров и проверка - улучшится ли качество модели за счёт новых данных\n",
    "- Сравнение метрик до/после"
   ]
  },
  {
   "cell_type": "code",
   "execution_count": 72,
   "id": "012945dd",
   "metadata": {},
   "outputs": [],
   "source": [
    "# 14. Теперь добавляем категориальные признаки\n",
    "X_train_full, X_test_full, y_train, y_test = train_test_split(X_full, y, test_size=0.25, random_state=42)"
   ]
  },
  {
   "cell_type": "code",
   "execution_count": 73,
   "id": "a90bbdc4",
   "metadata": {},
   "outputs": [],
   "source": [
    "# 15. Препроцессор с категориями\n",
    "preprocessor_with_cat = ColumnTransformer(\n",
    "    transformers=[\n",
    "        ('num', Pipeline([\n",
    "            ('imputer', SimpleImputer(strategy='median')),\n",
    "            ('scaler', StandardScaler())\n",
    "        ]), numeric_features),\n",
    "        ('cat', OneHotEncoder(handle_unknown='ignore'), categorical_features)\n",
    "    ])"
   ]
  },
  {
   "cell_type": "code",
   "execution_count": 74,
   "id": "3be365cb",
   "metadata": {},
   "outputs": [],
   "source": [
    "# 16. Модели с категориями - используем варианты бустинга\n",
    "models_with_cat = {\n",
    "    'XGB': XGBRegressor(random_state=42),\n",
    "    'LGBM': LGBMRegressor(random_state=42),\n",
    "    'CatBoost': CatBoostRegressor(random_state=42, verbose=0)\n",
    "}\n",
    "\n",
    "param_grids_with_cat = {\n",
    "    'XGB': {\n",
    "        'model__n_estimators': [50, 100],\n",
    "        'model__learning_rate': [0.01, 0.1],\n",
    "        'model__max_depth': [3, 5]\n",
    "    },\n",
    "    'LGBM': {\n",
    "        'model__n_estimators': [50, 100],\n",
    "        'model__learning_rate': [0.01, 0.1],\n",
    "        'model__num_leaves': [20, 31]\n",
    "    },\n",
    "    'CatBoost': {\n",
    "        'model__iterations': [50, 100],\n",
    "        'model__learning_rate': [0.01, 0.1],\n",
    "        'model__depth': [4, 6]\n",
    "    }\n",
    "}"
   ]
  },
  {
   "cell_type": "code",
   "execution_count": 75,
   "id": "b3efaa3c",
   "metadata": {},
   "outputs": [
    {
     "name": "stdout",
     "output_type": "stream",
     "text": [
      "==================================================\n",
      "Обучение модели: XGB с категориальными признаками\n",
      "Модель: XGB (с категориями)\n",
      "MAE: 1.4888, RMSE: 2.1848, R²: 0.5406\n",
      "\n",
      "==================================================\n",
      "Обучение модели: LGBM с категориальными признаками\n",
      "[LightGBM] [Info] Auto-choosing col-wise multi-threading, the overhead of testing was 0,000138 seconds.\n",
      "You can set `force_col_wise=true` to remove the overhead.\n",
      "[LightGBM] [Info] Total Bins 1284\n",
      "[LightGBM] [Info] Number of data points in the train set: 3111, number of used features: 10\n",
      "[LightGBM] [Info] Start training from score 11,466892\n",
      "Модель: LGBM (с категориями)\n",
      "MAE: 1.5159, RMSE: 2.2022, R²: 0.5332\n",
      "\n",
      "==================================================\n",
      "Обучение модели: CatBoost с категориальными признаками\n"
     ]
    },
    {
     "name": "stderr",
     "output_type": "stream",
     "text": [
      "c:\\Programs\\Python312\\Lib\\site-packages\\sklearn\\utils\\validation.py:2739: UserWarning:\n",
      "\n",
      "X does not have valid feature names, but LGBMRegressor was fitted with feature names\n",
      "\n"
     ]
    },
    {
     "name": "stdout",
     "output_type": "stream",
     "text": [
      "Модель: CatBoost (с категориями)\n",
      "MAE: 1.4894, RMSE: 2.1657, R²: 0.5486\n",
      "\n"
     ]
    }
   ],
   "source": [
    "best_metrics_with_cat = {}\n",
    "best_models_with_cat = {}\n",
    "\n",
    "for name, model in models_with_cat.items():\n",
    "    print(f\"{'='*50}\\nОбучение модели: {name} с категориальными признаками\")\n",
    "    \n",
    "    pipe = Pipeline(steps=[('preprocessor', preprocessor_with_cat), ('model', model)])\n",
    "    \n",
    "    if name in param_grids_with_cat and len(param_grids_with_cat[name]) > 0:\n",
    "        gs = GridSearchCV(pipe, param_grids_with_cat[name], scoring='r2', cv=5, n_jobs=-1)\n",
    "        gs.fit(X_train_full, y_train)\n",
    "        \n",
    "        best_model = gs.best_estimator_\n",
    "        y_pred = best_model.predict(X_test_full)\n",
    "        metrics = evaluate_model(y_test, y_pred, f\"{name} (с категориями)\")\n",
    "        best_metrics_with_cat[name] = metrics\n",
    "        \n",
    "    else:\n",
    "        pipe.fit(X_train_full, y_train)\n",
    "        y_pred = pipe.predict(X_test_full)\n",
    "        metrics = evaluate_model(y_test, y_pred, f\"{name} (по умолчанию)\")\n",
    "        best_metrics_with_cat[name] = metrics\n",
    "\n",
    "    best_models_with_cat[name] = best_model  # <-- мы сохраняем лучшую модель сюда"
   ]
  },
  {
   "cell_type": "code",
   "execution_count": 76,
   "id": "44b983a2",
   "metadata": {},
   "outputs": [
    {
     "name": "stdout",
     "output_type": "stream",
     "text": [
      "\n",
      "Сводная таблица: до/после добавления категориальных признаков\n",
      "  Model  MAE      MAE_with_cat  MAE_diff  RMSE     RMSE_with_cat  RMSE_diff  R²       R²_with_cat  R²_diff\n",
      "0  XGB  1.510590 1.488818      0.021772  2.187035 2.184797       0.002238   0.539629 0.540571     0.000942\n"
     ]
    }
   ],
   "source": [
    "# 17. Делаем сводную таблицу с категориями\n",
    "df_best_results_with_cat = pd.DataFrame(best_metrics_with_cat).T\n",
    "df_best_results_with_cat.index.name = 'Model'\n",
    "df_best_results_with_cat.reset_index(inplace=True)\n",
    "df_best_results_with_cat.columns = ['Model', 'MAE_with_cat', 'RMSE_with_cat', 'R²_with_cat']\n",
    " \n",
    "# Берём только XGB из df_best_results_num\n",
    "df_best_results_num_xgb = df_best_results_num[df_best_results_num['Model'] == 'XGB']\n",
    "\n",
    "# 18. Соединяем с предыдущими результатами\n",
    "# Объединяем с df_best_results_with_cat\n",
    "df_comparison = pd.merge(\n",
    "    df_best_results_num_xgb,\n",
    "    df_best_results_with_cat,\n",
    "    on='Model',\n",
    "    suffixes=('', '_with_cat')\n",
    ")\n",
    "\n",
    "# 19. Вычисляем разницу\n",
    "df_comparison['MAE_diff'] = df_comparison['MAE'] - df_comparison['MAE_with_cat']\n",
    "df_comparison['RMSE_diff'] = df_comparison['RMSE'] - df_comparison['RMSE_with_cat']\n",
    "df_comparison['R²_diff'] = df_comparison['R²_with_cat'] - df_comparison['R²']\n",
    "\n",
    "# 20. Форматируем вывод\n",
    "pd.set_option('display.float_format', '{:.6f}'.format)\n",
    "pd.set_option('display.width', 1000)\n",
    "pd.set_option('display.max_columns', None)\n",
    "\n",
    "print(\"\\nСводная таблица: до/после добавления категориальных признаков\")\n",
    "print(df_comparison[['Model', 'MAE', 'MAE_with_cat', 'MAE_diff',\n",
    "                     'RMSE', 'RMSE_with_cat', 'RMSE_diff',\n",
    "                     'R²', 'R²_with_cat', 'R²_diff']])"
   ]
  },
  {
   "cell_type": "markdown",
   "id": "1dc0e766",
   "metadata": {},
   "source": [
    "Получаем странный результат. После добавления категориальных признаков качество XGBoost немного упало : \n",
    "- MAE увеличился\n",
    "- R² уменьшился"
   ]
  },
  {
   "cell_type": "code",
   "execution_count": 77,
   "id": "dec474fa",
   "metadata": {},
   "outputs": [
    {
     "name": "stdout",
     "output_type": "stream",
     "text": [
      "\n",
      "Результаты на числовых признаках:\n",
      "  Model           MAE      RMSE     R²     \n",
      "0         Linear 1.607715 2.260806 0.508048\n",
      "1          Ridge 1.607725 2.260914 0.508001\n",
      "2  BayesianRidge 1.607756 2.261080 0.507928\n",
      "3            kNN 1.616972 2.327944 0.478395\n",
      "4   RandomForest 1.546152 2.212490 0.528850\n",
      "5            XGB 1.664866 2.367185 0.460662\n",
      "\n",
      "Результаты с категориальными признаками:\n",
      "  Model      MAE_with_cat  RMSE_with_cat  R²_with_cat\n",
      "0       XGB 1.488818      2.184797       0.540571    \n",
      "1      LGBM 1.515924      2.202179       0.533232    \n",
      "2  CatBoost 1.489443      2.165706       0.548565    \n",
      "\n",
      "Сводное сравнение XGB до и после добавления категорий:\n",
      "Metric  Before (numeric only)  After (with categories)  Difference\n",
      " MAE   1.510590               1.488818                 0.021772   \n",
      "RMSE   2.187035               2.184797                 0.002238   \n",
      "  R²   0.539629               0.540571                 0.000942   \n"
     ]
    }
   ],
   "source": [
    "# Таблица 1: модели только на числах\n",
    "print(\"\\nРезультаты на числовых признаках:\")\n",
    "print(df_results_num)\n",
    "\n",
    "# Таблица 2: модели с категориями\n",
    "print(\"\\nРезультаты с категориальными признаками:\")\n",
    "print(df_best_results_with_cat)\n",
    "\n",
    "# Теперь сравниваем только XGB\n",
    "xgb_only_num = df_best_results_num[df_best_results_num['Model'] == 'XGB']\n",
    "xgb_only_cat = df_best_results_with_cat[df_best_results_with_cat['Model'] == 'XGB']\n",
    "\n",
    "if not xgb_only_num.empty and not xgb_only_cat.empty:\n",
    "    df_comparison = pd.DataFrame({\n",
    "        'Metric': ['MAE', 'RMSE', 'R²'],\n",
    "        'Before (numeric only)': [\n",
    "            xgb_only_num['MAE'].values[0],\n",
    "            xgb_only_num['RMSE'].values[0],\n",
    "            xgb_only_num['R²'].values[0]\n",
    "        ],\n",
    "        'After (with categories)': [\n",
    "            xgb_only_cat['MAE_with_cat'].values[0],\n",
    "            xgb_only_cat['RMSE_with_cat'].values[0],\n",
    "            xgb_only_cat['R²_with_cat'].values[0]\n",
    "        ],\n",
    "        'Difference': [\n",
    "            xgb_only_num['MAE'].values[0] - xgb_only_cat['MAE_with_cat'].values[0],\n",
    "            xgb_only_num['RMSE'].values[0] - xgb_only_cat['RMSE_with_cat'].values[0],\n",
    "            xgb_only_cat['R²_with_cat'].values[0] - xgb_only_num['R²'].values[0]\n",
    "        ]\n",
    "    })\n",
    "\n",
    "    print(\"\\nСводное сравнение XGB до и после добавления категорий:\")\n",
    "    print(df_comparison.to_string(index=False))\n",
    "else:\n",
    "    print(\"Ошибка: не найдены данные для XGB в одной из таблиц.\")"
   ]
  },
  {
   "cell_type": "markdown",
   "id": "696c9242",
   "metadata": {},
   "source": [
    "- Категориальный признак 'Sex' не помог XGBoost, он даже усложнил задачу и ухудшил качество модели\n",
    "- Но для других моделей (LGBM и CatBoost), наоборот, качество улучшилось"
   ]
  },
  {
   "cell_type": "markdown",
   "id": "6d3f45ef",
   "metadata": {},
   "source": [
    "Пробуем обучить CatBoost без препроцессора, потому что он сам умеет работать с категориями, но это не помогло улучшить модель, метрики даже упали"
   ]
  },
  {
   "cell_type": "code",
   "execution_count": 78,
   "id": "2e30a4f0",
   "metadata": {},
   "outputs": [
    {
     "name": "stdout",
     "output_type": "stream",
     "text": [
      "Модель: CatBoost (нативно)\n",
      "MAE: 1.4925, RMSE: 2.1730, R²: 0.5455\n",
      "\n"
     ]
    }
   ],
   "source": [
    "from catboost import Pool\n",
    "\n",
    "# Укажем, какие признаки категориальные\n",
    "cat_features = X_full.select_dtypes(exclude=np.number).columns.tolist()\n",
    "\n",
    "train_pool = Pool(X_train_full, y_train, cat_features=cat_features)\n",
    "test_pool = Pool(X_test_full, y_test, cat_features=cat_features)\n",
    "\n",
    "model = CatBoostRegressor(iterations=100, learning_rate=0.1, depth=6, verbose=0)\n",
    "model.fit(train_pool)\n",
    "\n",
    "y_pred = model.predict(test_pool)\n",
    "metrics = evaluate_model(y_test, y_pred, \"CatBoost (нативно)\")"
   ]
  },
  {
   "cell_type": "markdown",
   "id": "74d4e009",
   "metadata": {},
   "source": [
    "По итогу LGBM показало наилучшие результаты - с ним и двинемся дальше"
   ]
  },
  {
   "cell_type": "code",
   "execution_count": 79,
   "id": "f34a735b",
   "metadata": {},
   "outputs": [
    {
     "name": "stderr",
     "output_type": "stream",
     "text": [
      "ExactExplainer explainer: 1038it [00:30, 23.54it/s]                          "
     ]
    },
    {
     "name": "stdout",
     "output_type": "stream",
     "text": [
      "Generating self.shap_explainer = shap.TreeExplainer(model)\n",
      "Building ExplainerDashboard..\n"
     ]
    },
    {
     "name": "stderr",
     "output_type": "stream",
     "text": [
      "\n"
     ]
    },
    {
     "name": "stdout",
     "output_type": "stream",
     "text": [
      "WARNING: the number of idxs (=1037) > max_idxs_in_dropdown(=1000). However with your installed version of dash(3.0.2) dropdown search may not work smoothly. You can downgrade to `pip install dash==2.6.2` which should work better for now...\n",
      "Detected notebook environment, consider setting mode='external', mode='inline' or mode='jupyterlab' to keep the notebook interactive while the dashboard is running...\n",
      "The explainer object has no decision_trees property. so setting decision_trees=False...\n",
      "Warning: calculating shap interaction values can be slow! Pass shap_interaction=False to remove interactions tab.\n",
      "Generating layout...\n",
      "Calculating shap values...\n",
      "Calculating predictions...\n",
      "Calculating residuals...\n",
      "Calculating absolute residuals...\n",
      "Calculating shap interaction values...\n",
      "Reminder: TreeShap computational complexity is O(TLD^2), where T is the number of trees, L is the maximum number of leaves in any tree and D the maximal depth of any tree. So reducing these will speed up the calculation.\n",
      "Calculating dependencies...\n",
      "Calculating importances...\n",
      "Reminder: you can store the explainer (including calculated dependencies) with explainer.dump('explainer.joblib') and reload with e.g. ClassifierExplainer.from_file('explainer.joblib')\n",
      "Registering callbacks...\n",
      "Dumping configuration .yaml to c:\\Programs\\PythonProjects\\EDA_and_dev\\eda_and_dev_tools\\abalone_lgbm_dashboard.yaml...\n",
      "Dumping explainer to c:\\Programs\\PythonProjects\\EDA_and_dev\\eda_and_dev_tools\\lgbm_explainer.joblib...\n"
     ]
    }
   ],
   "source": [
    "import shap\n",
    "from explainerdashboard import RegressionExplainer, ExplainerDashboard\n",
    "\n",
    "# 1. Берём обученную LGBM-модель из best_models_with_cat\n",
    "best_lgbm_model = best_models_with_cat['LGBM']\n",
    "\n",
    "# 2. Получаем предобработчик и сам регрессор\n",
    "preprocessor = best_lgbm_model.named_steps['preprocessor']\n",
    "model = best_lgbm_model.named_steps['model']\n",
    "\n",
    "# 3. Применяем препроцессор к тестовой выборке\n",
    "X_test_processed = preprocessor.transform(X_test_full)\n",
    "\n",
    "# 4. Создаём DataFrame с понятными именами признаков после OHE\n",
    "cat_feature_names = preprocessor.named_transformers_['cat'].get_feature_names_out(categorical_features)\n",
    "all_feature_names = list(cat_feature_names) + numeric_features\n",
    "\n",
    "X_test_processed_df = pd.DataFrame(X_test_processed, columns=all_feature_names)\n",
    "\n",
    "# 5. Создаём SHAP-эксплайнер на основе модели и обработанных данных\n",
    "shap_explainer = shap.Explainer(model.predict, X_test_processed_df)\n",
    "shap_values = shap_explainer(X_test_processed_df)\n",
    "\n",
    "# 6. Создаём RegressionExplainer — без параметра shap_explainer\n",
    "reg_explainer = RegressionExplainer(\n",
    "    model,\n",
    "    X_test_processed_df,\n",
    "    y_test,\n",
    "    # SHAP значения передаются напрямую в ExplainerDashboard\n",
    ")\n",
    "\n",
    "# 7. Создаём dashboard\n",
    "db = ExplainerDashboard(reg_explainer, title=\"LGBM Abalone Age Predictor\", shap_mode=\"regression\")\n",
    "\n",
    "# 8. Сохраняем конфигурацию дашборда\n",
    "db.to_yaml(\"abalone_lgbm_dashboard.yaml\", explainerfile=\"lgbm_explainer.joblib\", dump_explainer=True)"
   ]
  },
  {
   "cell_type": "code",
   "execution_count": 80,
   "id": "3205d576",
   "metadata": {},
   "outputs": [
    {
     "data": {
      "text/html": [
       "\n",
       "        <iframe\n",
       "            width=\"100%\"\n",
       "            height=\"650\"\n",
       "            src=\"http://127.0.0.1:8050/\"\n",
       "            frameborder=\"0\"\n",
       "            allowfullscreen\n",
       "            \n",
       "        ></iframe>\n",
       "        "
      ],
      "text/plain": [
       "<IPython.lib.display.IFrame at 0x12406fbaf90>"
      ]
     },
     "metadata": {},
     "output_type": "display_data"
    }
   ],
   "source": [
    "db.app.run()"
   ]
  },
  {
   "cell_type": "markdown",
   "id": "bb47393d",
   "metadata": {},
   "source": [
    "По Explainer Dashboard наибольшее значение на возраст устриц оказывают признаки Whole weight и Diameter, что в общем то логично и без ML :)"
   ]
  },
  {
   "cell_type": "code",
   "execution_count": 81,
   "id": "f72f890a",
   "metadata": {},
   "outputs": [
    {
     "name": "stdout",
     "output_type": "stream",
     "text": [
      "Наиболее важные признаки:\n",
      "Whole weight   1.387566\n",
      "Diameter       0.864295\n",
      "Length         0.348616\n",
      "Sex_M          0.348435\n",
      "Sex_I          0.184250\n",
      "dtype: float64\n"
     ]
    }
   ],
   "source": [
    "# Получаем DataFrame с SHAP значениями\n",
    "shap_values_df = reg_explainer.get_shap_values_df()\n",
    "\n",
    "# Считаем среднюю абсолютную важность по всем объектам\n",
    "shap_ranking = shap_values_df.abs().mean().sort_values(ascending=False)\n",
    "\n",
    "print(\"Наиболее важные признаки:\")\n",
    "print(shap_ranking.head(5))"
   ]
  },
  {
   "cell_type": "code",
   "execution_count": 82,
   "id": "212fe33d",
   "metadata": {},
   "outputs": [
    {
     "name": "stdout",
     "output_type": "stream",
     "text": [
      "  Model  MAE_with_cat  RMSE_with_cat  R²_with_cat\n",
      "1  LGBM 1.515924      2.202179       0.533232    \n"
     ]
    }
   ],
   "source": [
    "# Получаем основные метрики\n",
    "metrics = df_best_results_with_cat[df_best_results_with_cat['Model'] == 'LGBM']\n",
    "print(metrics)"
   ]
  },
  {
   "cell_type": "markdown",
   "id": "789b1f11",
   "metadata": {},
   "source": [
    "### Наиболее важные признаки для прогноза возраста устрицы:\n",
    "\n",
    "| Признак           | Важность |\n",
    "|-------------------|----------|\n",
    "| Whole weight      | 1.388    |\n",
    "| Diameter          | 0.864    |\n",
    "| Length            | 0.349    |\n",
    "\n",
    "> **Вывод:**  \n",
    "Самый важный признак — **вес всей особи (`Whole weight`)**.  \n",
    "Затем следуют такие физические параметры, как **диаметр (`Diameter`) и размер (`Length`)**.  \n",
    "Категориальный признак `'Sex'` тоже влияет на прогноз, но не так сильно, как числовые признаки."
   ]
  },
  {
   "cell_type": "code",
   "execution_count": 83,
   "id": "9d78a781",
   "metadata": {},
   "outputs": [
    {
     "data": {
      "image/png": "[encoded data removed]",
      "text/plain": [
       "<Figure size 1000x600 with 1 Axes>"
      ]
     },
     "metadata": {},
     "output_type": "display_data"
    }
   ],
   "source": [
    "import matplotlib.pyplot as plt\n",
    "import seaborn as sns\n",
    "\n",
    "# Построим график важности признаков\n",
    "top_n = 10\n",
    "shap_ranking.head(top_n).sort_values().plot(kind='barh', figsize=(10, 6), color='skyblue')\n",
    "plt.title('Важность признаков (по SHAP)')\n",
    "plt.xlabel('Средняя абсолютная важность')\n",
    "plt.ylabel('Признаки')\n",
    "plt.gca().invert_yaxis()\n",
    "plt.grid(axis='x', linestyle='--', alpha=0.7)\n",
    "plt.show()"
   ]
  }
 ],
 "metadata": {
  "kernelspec": {
   "display_name": "Python 3",
   "language": "python",
   "name": "python3"
  },
  "language_info": {
   "codemirror_mode": {
    "name": "ipython",
    "version": 3
   },
   "file_extension": ".py",
   "mimetype": "text/x-python",
   "name": "python",
   "nbconvert_exporter": "python",
   "pygments_lexer": "ipython3",
   "version": "3.12.7"
  }
 },
 "nbformat": 4,
 "nbformat_minor": 5
}
